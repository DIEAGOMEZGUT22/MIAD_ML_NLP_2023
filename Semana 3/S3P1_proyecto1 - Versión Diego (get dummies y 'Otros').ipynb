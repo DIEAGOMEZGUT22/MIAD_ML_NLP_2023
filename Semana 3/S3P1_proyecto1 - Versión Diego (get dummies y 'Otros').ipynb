{
 "cells": [
  {
   "cell_type": "markdown",
   "metadata": {},
   "source": [
    "![image info](https://raw.githubusercontent.com/davidzarruk/MIAD_ML_NLP_2023/main/images/banner_1.png)"
   ]
  },
  {
   "cell_type": "markdown",
   "metadata": {},
   "source": [
    "# Proyecto 1 - Predicción de precios de vehículos usados\n",
    "\n",
    "En este proyecto podrán poner en práctica sus conocimientos sobre modelos predictivos basados en árboles y ensambles, y sobre la disponibilización de modelos. Para su desasrrollo tengan en cuenta las instrucciones dadas en la \"Guía del proyecto 1: Predicción de precios de vehículos usados\".\n",
    "\n",
    "**Entrega**: La entrega del proyecto deberán realizarla durante la semana 4. Sin embargo, es importante que avancen en la semana 3 en el modelado del problema y en parte del informe, tal y como se les indicó en la guía.\n",
    "\n",
    "Para hacer la entrega, deberán adjuntar el informe autocontenido en PDF a la actividad de entrega del proyecto que encontrarán en la semana 4, y subir el archivo de predicciones a la [competencia de Kaggle](https://www.kaggle.com/t/b8be43cf89c540bfaf3831f2c8506614)."
   ]
  },
  {
   "cell_type": "markdown",
   "metadata": {},
   "source": [
    "## Datos para la predicción de precios de vehículos usados\n",
    "\n",
    "En este proyecto se usará el conjunto de datos de Car Listings de Kaggle, donde cada observación representa el precio de un automóvil teniendo en cuenta distintas variables como: año, marca, modelo, entre otras. El objetivo es predecir el precio del automóvil. Para más detalles puede visitar el siguiente enlace: [datos](https://www.kaggle.com/jpayne/852k-used-car-listings)."
   ]
  },
  {
   "cell_type": "markdown",
   "metadata": {},
   "source": [
    "## Ejemplo predicción conjunto de test para envío a Kaggle\n",
    "\n",
    "En esta sección encontrarán el formato en el que deben guardar los resultados de la predicción para que puedan subirlos a la competencia en Kaggle."
   ]
  },
  {
   "cell_type": "code",
   "execution_count": 1,
   "metadata": {},
   "outputs": [],
   "source": [
    "import warnings\n",
    "warnings.filterwarnings('ignore')"
   ]
  },
  {
   "cell_type": "code",
   "execution_count": 2,
   "metadata": {},
   "outputs": [],
   "source": [
    "# Importación librerías\n",
    "import pandas as pd\n",
    "import numpy as np\n",
    "import matplotlib.pyplot as plt"
   ]
  },
  {
   "cell_type": "code",
   "execution_count": 3,
   "metadata": {},
   "outputs": [],
   "source": [
    "# Carga de datos de archivo .csv\n",
    "dataTraining = pd.read_csv('https://raw.githubusercontent.com/davidzarruk/MIAD_ML_NLP_2023/main/datasets/dataTrain_carListings.zip')\n",
    "dataTesting = pd.read_csv('https://raw.githubusercontent.com/davidzarruk/MIAD_ML_NLP_2023/main/datasets/dataTest_carListings.zip', index_col=0)"
   ]
  },
  {
   "cell_type": "markdown",
   "metadata": {},
   "source": [
    "## Transformación información en Train"
   ]
  },
  {
   "cell_type": "code",
   "execution_count": 4,
   "metadata": {},
   "outputs": [
    {
     "data": {
      "text/html": [
       "<div>\n",
       "<style scoped>\n",
       "    .dataframe tbody tr th:only-of-type {\n",
       "        vertical-align: middle;\n",
       "    }\n",
       "\n",
       "    .dataframe tbody tr th {\n",
       "        vertical-align: top;\n",
       "    }\n",
       "\n",
       "    .dataframe thead th {\n",
       "        text-align: right;\n",
       "    }\n",
       "</style>\n",
       "<table border=\"1\" class=\"dataframe\">\n",
       "  <thead>\n",
       "    <tr style=\"text-align: right;\">\n",
       "      <th></th>\n",
       "      <th>Price</th>\n",
       "      <th>Year</th>\n",
       "      <th>Mileage</th>\n",
       "      <th>State</th>\n",
       "      <th>Make</th>\n",
       "      <th>Model</th>\n",
       "    </tr>\n",
       "  </thead>\n",
       "  <tbody>\n",
       "    <tr>\n",
       "      <th>0</th>\n",
       "      <td>34995</td>\n",
       "      <td>2017</td>\n",
       "      <td>9913</td>\n",
       "      <td>FL</td>\n",
       "      <td>Jeep</td>\n",
       "      <td>Wrangler</td>\n",
       "    </tr>\n",
       "    <tr>\n",
       "      <th>1</th>\n",
       "      <td>37895</td>\n",
       "      <td>2015</td>\n",
       "      <td>20578</td>\n",
       "      <td>OH</td>\n",
       "      <td>Chevrolet</td>\n",
       "      <td>Tahoe4WD</td>\n",
       "    </tr>\n",
       "    <tr>\n",
       "      <th>2</th>\n",
       "      <td>18430</td>\n",
       "      <td>2012</td>\n",
       "      <td>83716</td>\n",
       "      <td>TX</td>\n",
       "      <td>BMW</td>\n",
       "      <td>X5AWD</td>\n",
       "    </tr>\n",
       "    <tr>\n",
       "      <th>3</th>\n",
       "      <td>24681</td>\n",
       "      <td>2014</td>\n",
       "      <td>28729</td>\n",
       "      <td>OH</td>\n",
       "      <td>Cadillac</td>\n",
       "      <td>SRXLuxury</td>\n",
       "    </tr>\n",
       "    <tr>\n",
       "      <th>4</th>\n",
       "      <td>26998</td>\n",
       "      <td>2013</td>\n",
       "      <td>64032</td>\n",
       "      <td>CO</td>\n",
       "      <td>Jeep</td>\n",
       "      <td>Wrangler</td>\n",
       "    </tr>\n",
       "  </tbody>\n",
       "</table>\n",
       "</div>"
      ],
      "text/plain": [
       "   Price  Year  Mileage State       Make      Model\n",
       "0  34995  2017     9913    FL       Jeep   Wrangler\n",
       "1  37895  2015    20578    OH  Chevrolet   Tahoe4WD\n",
       "2  18430  2012    83716    TX        BMW      X5AWD\n",
       "3  24681  2014    28729    OH   Cadillac  SRXLuxury\n",
       "4  26998  2013    64032    CO       Jeep   Wrangler"
      ]
     },
     "execution_count": 4,
     "metadata": {},
     "output_type": "execute_result"
    }
   ],
   "source": [
    "# Visualización datos de entrenamiento\n",
    "dataTraining.head()"
   ]
  },
  {
   "cell_type": "markdown",
   "metadata": {},
   "source": [
    "#### Anaálisis variable Model:\n",
    "Evidenciamos que la variable 'Model' puede tomar 525 valores diferentes, y muchos de ellos no representan más del 0,96% de las observaciones totales, por lo que nos permitimos renombrar dichos valores como \"Otros\", dado que los valores restantes (Silverado, Grand, Sierra, Accord, F-1504WD, Civic, Wrangler, 3, Santa, Jetta, FusionSE, EquinoxFWD, CamrySE y Super) representan más del 22% de las observaciones totales."
   ]
  },
  {
   "cell_type": "code",
   "execution_count": null,
   "metadata": {},
   "outputs": [],
   "source": [
    "print(dataTraining['Model'].unique())\n",
    "print(dataTraining['Model'].nunique())"
   ]
  },
  {
   "cell_type": "code",
   "execution_count": null,
   "metadata": {},
   "outputs": [],
   "source": [
    "valores_unicos = dataTraining['Model'].unique()\n",
    "for valor in valores_unicos:\n",
    "    porcentaje = (dataTraining['Model'] == valor).mean() * 100\n",
    "    print(f\"El {porcentaje:.2f}% de las observaciones tienen el valor '{valor}' en la columna 'Model'\")"
   ]
  },
  {
   "cell_type": "code",
   "execution_count": null,
   "metadata": {},
   "outputs": [],
   "source": [
    "# Calculamos el porcentaje de observaciones para cada valor único en la columna 'Model'\n",
    "porcentajes = dataTraining['Model'].value_counts(normalize=True) * 100\n",
    "\n",
    "# Renombra,os los valores que no representen más del 0.96% de las observaciones como 'Otro'\n",
    "valores_permitidos = porcentajes[porcentajes > 0.96].index\n",
    "dataTraining['Model'] = dataTraining['Model'].where(dataTraining['Model'].isin(valores_permitidos), 'Otro')"
   ]
  },
  {
   "cell_type": "markdown",
   "metadata": {},
   "source": [
    "#### Análisis variable Make:\n",
    "Similar a lo acontecido con la variabnle 'Model', evidenciamos que la variable 'Make' puede tomar 38 valores diferentes, y muchos de ellos no representan más del 2,0% de las observaciones totales, por lo que nos permitimos renombrar dichos valores como \"Otro\", dado que los valores restantes representan más del 87% de las observaciones totales."
   ]
  },
  {
   "cell_type": "code",
   "execution_count": null,
   "metadata": {},
   "outputs": [],
   "source": [
    "print(dataTraining['Make'].unique())\n",
    "print(dataTraining['Make'].nunique())"
   ]
  },
  {
   "cell_type": "code",
   "execution_count": null,
   "metadata": {},
   "outputs": [],
   "source": [
    "valores_unicos = dataTraining['Make'].unique()\n",
    "for valor in valores_unicos:\n",
    "    porcentaje = (dataTraining['Make'] == valor).mean() * 100\n",
    "    print(f\"El {porcentaje:.2f}% de las observaciones tienen el valor '{valor}' en la columna 'Make'\")"
   ]
  },
  {
   "cell_type": "code",
   "execution_count": null,
   "metadata": {},
   "outputs": [],
   "source": [
    "# Calculamos el porcentaje de observaciones para cada valor único en la columna 'Model'\n",
    "porcentajes = dataTraining['Make'].value_counts(normalize=True) * 100\n",
    "\n",
    "# Renombra,os los valores que no representen más del 2% de las observaciones como 'Otro'\n",
    "valores_permitidos = porcentajes[porcentajes > 2].index\n",
    "dataTraining['Make'] = dataTraining['Make'].where(dataTraining['Make'].isin(valores_permitidos), 'Otro')"
   ]
  },
  {
   "cell_type": "code",
   "execution_count": 5,
   "metadata": {},
   "outputs": [],
   "source": [
    "#Factorizacion variables categoricas\n",
    "dataTraining['State'] = pd.factorize(dataTraining.State)[0]\n",
    "dataTraining['Make'] = pd.factorize(dataTraining.Make)[0]\n",
    "dataTraining['Model'] = pd.factorize(dataTraining.Model)[0]\n",
    "dataTraining['Year'] = pd.factorize(dataTraining.Year)[0]"
   ]
  },
  {
   "cell_type": "markdown",
   "metadata": {},
   "source": [
    "### Transformación variables en dummies:"
   ]
  },
  {
   "cell_type": "code",
   "execution_count": 5,
   "metadata": {
    "scrolled": true
   },
   "outputs": [
    {
     "name": "stdout",
     "output_type": "stream",
     "text": [
      "        Price  Year  Mileage State           Model  Make_Acura  Make_Audi  \\\n",
      "0       34995  2017     9913    FL        Wrangler           0          0   \n",
      "1       37895  2015    20578    OH        Tahoe4WD           0          0   \n",
      "2       18430  2012    83716    TX           X5AWD           0          0   \n",
      "3       24681  2014    28729    OH       SRXLuxury           0          0   \n",
      "4       26998  2013    64032    CO        Wrangler           0          0   \n",
      "...       ...   ...      ...   ...             ...         ...        ...   \n",
      "399995  29900  2015    25287    TX            RXRX           0          0   \n",
      "399996  17688  2015    17677    MI      EquinoxFWD           0          0   \n",
      "399997  24907  2014    66688    NC  EnclaveLeather           0          0   \n",
      "399998  11498  2014    37872    IN           Jetta           0          0   \n",
      "399999  16900  2014    78606    CO     PathfinderS           0          0   \n",
      "\n",
      "        Make_BMW  Make_Bentley  Make_Buick  ...  Make_Pontiac  Make_Porsche  \\\n",
      "0              0             0           0  ...             0             0   \n",
      "1              0             0           0  ...             0             0   \n",
      "2              1             0           0  ...             0             0   \n",
      "3              0             0           0  ...             0             0   \n",
      "4              0             0           0  ...             0             0   \n",
      "...          ...           ...         ...  ...           ...           ...   \n",
      "399995         0             0           0  ...             0             0   \n",
      "399996         0             0           0  ...             0             0   \n",
      "399997         0             0           1  ...             0             0   \n",
      "399998         0             0           0  ...             0             0   \n",
      "399999         0             0           0  ...             0             0   \n",
      "\n",
      "        Make_Ram  Make_Scion  Make_Subaru  Make_Suzuki  Make_Tesla  \\\n",
      "0              0           0            0            0           0   \n",
      "1              0           0            0            0           0   \n",
      "2              0           0            0            0           0   \n",
      "3              0           0            0            0           0   \n",
      "4              0           0            0            0           0   \n",
      "...          ...         ...          ...          ...         ...   \n",
      "399995         0           0            0            0           0   \n",
      "399996         0           0            0            0           0   \n",
      "399997         0           0            0            0           0   \n",
      "399998         0           0            0            0           0   \n",
      "399999         0           0            0            0           0   \n",
      "\n",
      "        Make_Toyota  Make_Volkswagen  Make_Volvo  \n",
      "0                 0                0           0  \n",
      "1                 0                0           0  \n",
      "2                 0                0           0  \n",
      "3                 0                0           0  \n",
      "4                 0                0           0  \n",
      "...             ...              ...         ...  \n",
      "399995            0                0           0  \n",
      "399996            0                0           0  \n",
      "399997            0                0           0  \n",
      "399998            0                1           0  \n",
      "399999            0                0           0  \n",
      "\n",
      "[400000 rows x 43 columns]\n"
     ]
    }
   ],
   "source": [
    "# convertimos la columna 'Make' en variables dummy\n",
    "dummies = pd.get_dummies(dataTraining['Make'], prefix='Make')\n",
    "dataTraining = pd.concat([dataTraining, dummies], axis=1)\n",
    "dataTraining = dataTraining.drop('Make', axis=1)\n",
    "# Muestra el resultado\n",
    "print(dataTraining)"
   ]
  },
  {
   "cell_type": "code",
   "execution_count": 6,
   "metadata": {},
   "outputs": [
    {
     "name": "stdout",
     "output_type": "stream",
     "text": [
      "        Price  Year  Mileage State  Make_Acura  Make_Audi  Make_BMW  \\\n",
      "0       34995  2017     9913    FL           0          0         0   \n",
      "1       37895  2015    20578    OH           0          0         0   \n",
      "2       18430  2012    83716    TX           0          0         1   \n",
      "3       24681  2014    28729    OH           0          0         0   \n",
      "4       26998  2013    64032    CO           0          0         0   \n",
      "...       ...   ...      ...   ...         ...        ...       ...   \n",
      "399995  29900  2015    25287    TX           0          0         0   \n",
      "399996  17688  2015    17677    MI           0          0         0   \n",
      "399997  24907  2014    66688    NC           0          0         0   \n",
      "399998  11498  2014    37872    IN           0          0         0   \n",
      "399999  16900  2014    78606    CO           0          0         0   \n",
      "\n",
      "        Make_Bentley  Make_Buick  Make_Cadillac  ...  Model_Yaris4dr  \\\n",
      "0                  0           0              0  ...               0   \n",
      "1                  0           0              0  ...               0   \n",
      "2                  0           0              0  ...               0   \n",
      "3                  0           0              1  ...               0   \n",
      "4                  0           0              0  ...               0   \n",
      "...              ...         ...            ...  ...             ...   \n",
      "399995             0           0              0  ...               0   \n",
      "399996             0           0              0  ...               0   \n",
      "399997             0           1              0  ...               0   \n",
      "399998             0           0              0  ...               0   \n",
      "399999             0           0              0  ...               0   \n",
      "\n",
      "        Model_YarisBase  Model_YarisLE  Model_Yukon  Model_Yukon2WD  \\\n",
      "0                     0              0            0               0   \n",
      "1                     0              0            0               0   \n",
      "2                     0              0            0               0   \n",
      "3                     0              0            0               0   \n",
      "4                     0              0            0               0   \n",
      "...                 ...            ...          ...             ...   \n",
      "399995                0              0            0               0   \n",
      "399996                0              0            0               0   \n",
      "399997                0              0            0               0   \n",
      "399998                0              0            0               0   \n",
      "399999                0              0            0               0   \n",
      "\n",
      "        Model_Yukon4WD  Model_Yukon4dr  Model_tC2dr  Model_xB5dr  Model_xD5dr  \n",
      "0                    0               0            0            0            0  \n",
      "1                    0               0            0            0            0  \n",
      "2                    0               0            0            0            0  \n",
      "3                    0               0            0            0            0  \n",
      "4                    0               0            0            0            0  \n",
      "...                ...             ...          ...          ...          ...  \n",
      "399995               0               0            0            0            0  \n",
      "399996               0               0            0            0            0  \n",
      "399997               0               0            0            0            0  \n",
      "399998               0               0            0            0            0  \n",
      "399999               0               0            0            0            0  \n",
      "\n",
      "[400000 rows x 567 columns]\n"
     ]
    }
   ],
   "source": [
    "# convertimos la columna 'Model' en variables dummy\n",
    "dummies = pd.get_dummies(dataTraining['Model'], prefix='Model')\n",
    "dataTraining = pd.concat([dataTraining, dummies], axis=1)\n",
    "dataTraining = dataTraining.drop('Model', axis=1)\n",
    "# Muestra el resultado\n",
    "print(dataTraining)"
   ]
  },
  {
   "cell_type": "code",
   "execution_count": 7,
   "metadata": {},
   "outputs": [
    {
     "name": "stdout",
     "output_type": "stream",
     "text": [
      "        Price  Year  Mileage State  Make_Acura  Make_Audi  Make_BMW  \\\n",
      "0       34995     0     9913    FL           0          0         0   \n",
      "1       37895     1    20578    OH           0          0         0   \n",
      "2       18430     2    83716    TX           0          0         1   \n",
      "3       24681     3    28729    OH           0          0         0   \n",
      "4       26998     4    64032    CO           0          0         0   \n",
      "...       ...   ...      ...   ...         ...        ...       ...   \n",
      "399995  29900     1    25287    TX           0          0         0   \n",
      "399996  17688     1    17677    MI           0          0         0   \n",
      "399997  24907     3    66688    NC           0          0         0   \n",
      "399998  11498     3    37872    IN           0          0         0   \n",
      "399999  16900     3    78606    CO           0          0         0   \n",
      "\n",
      "        Make_Bentley  Make_Buick  Make_Cadillac  ...  Model_Yaris4dr  \\\n",
      "0                  0           0              0  ...               0   \n",
      "1                  0           0              0  ...               0   \n",
      "2                  0           0              0  ...               0   \n",
      "3                  0           0              1  ...               0   \n",
      "4                  0           0              0  ...               0   \n",
      "...              ...         ...            ...  ...             ...   \n",
      "399995             0           0              0  ...               0   \n",
      "399996             0           0              0  ...               0   \n",
      "399997             0           1              0  ...               0   \n",
      "399998             0           0              0  ...               0   \n",
      "399999             0           0              0  ...               0   \n",
      "\n",
      "        Model_YarisBase  Model_YarisLE  Model_Yukon  Model_Yukon2WD  \\\n",
      "0                     0              0            0               0   \n",
      "1                     0              0            0               0   \n",
      "2                     0              0            0               0   \n",
      "3                     0              0            0               0   \n",
      "4                     0              0            0               0   \n",
      "...                 ...            ...          ...             ...   \n",
      "399995                0              0            0               0   \n",
      "399996                0              0            0               0   \n",
      "399997                0              0            0               0   \n",
      "399998                0              0            0               0   \n",
      "399999                0              0            0               0   \n",
      "\n",
      "        Model_Yukon4WD  Model_Yukon4dr  Model_tC2dr  Model_xB5dr  Model_xD5dr  \n",
      "0                    0               0            0            0            0  \n",
      "1                    0               0            0            0            0  \n",
      "2                    0               0            0            0            0  \n",
      "3                    0               0            0            0            0  \n",
      "4                    0               0            0            0            0  \n",
      "...                ...             ...          ...          ...          ...  \n",
      "399995               0               0            0            0            0  \n",
      "399996               0               0            0            0            0  \n",
      "399997               0               0            0            0            0  \n",
      "399998               0               0            0            0            0  \n",
      "399999               0               0            0            0            0  \n",
      "\n",
      "[400000 rows x 567 columns]\n"
     ]
    }
   ],
   "source": [
    "# convertimos la columna 'Year' en variables dummy\n",
    "dataTraining['Year'] = pd.factorize(dataTraining.Year)[0]\n",
    "# Muestra el resultado\n",
    "print(dataTraining)"
   ]
  },
  {
   "cell_type": "code",
   "execution_count": 8,
   "metadata": {},
   "outputs": [
    {
     "name": "stdout",
     "output_type": "stream",
     "text": [
      "        Price  Year  Mileage  Make_Acura  Make_Audi  Make_BMW  Make_Bentley  \\\n",
      "0       34995     0     9913           0          0         0             0   \n",
      "1       37895     1    20578           0          0         0             0   \n",
      "2       18430     2    83716           0          0         1             0   \n",
      "3       24681     3    28729           0          0         0             0   \n",
      "4       26998     4    64032           0          0         0             0   \n",
      "...       ...   ...      ...         ...        ...       ...           ...   \n",
      "399995  29900     1    25287           0          0         0             0   \n",
      "399996  17688     1    17677           0          0         0             0   \n",
      "399997  24907     3    66688           0          0         0             0   \n",
      "399998  11498     3    37872           0          0         0             0   \n",
      "399999  16900     3    78606           0          0         0             0   \n",
      "\n",
      "        Make_Buick  Make_Cadillac  Make_Chevrolet  ...  State_ SD  State_ TN  \\\n",
      "0                0              0               0  ...          0          0   \n",
      "1                0              0               1  ...          0          0   \n",
      "2                0              0               0  ...          0          0   \n",
      "3                0              1               0  ...          0          0   \n",
      "4                0              0               0  ...          0          0   \n",
      "...            ...            ...             ...  ...        ...        ...   \n",
      "399995           0              0               0  ...          0          0   \n",
      "399996           0              0               1  ...          0          0   \n",
      "399997           1              0               0  ...          0          0   \n",
      "399998           0              0               0  ...          0          0   \n",
      "399999           0              0               0  ...          0          0   \n",
      "\n",
      "        State_ TX  State_ UT  State_ VA  State_ VT  State_ WA  State_ WI  \\\n",
      "0               0          0          0          0          0          0   \n",
      "1               0          0          0          0          0          0   \n",
      "2               1          0          0          0          0          0   \n",
      "3               0          0          0          0          0          0   \n",
      "4               0          0          0          0          0          0   \n",
      "...           ...        ...        ...        ...        ...        ...   \n",
      "399995          1          0          0          0          0          0   \n",
      "399996          0          0          0          0          0          0   \n",
      "399997          0          0          0          0          0          0   \n",
      "399998          0          0          0          0          0          0   \n",
      "399999          0          0          0          0          0          0   \n",
      "\n",
      "        State_ WV  State_ WY  \n",
      "0               0          0  \n",
      "1               0          0  \n",
      "2               0          0  \n",
      "3               0          0  \n",
      "4               0          0  \n",
      "...           ...        ...  \n",
      "399995          0          0  \n",
      "399996          0          0  \n",
      "399997          0          0  \n",
      "399998          0          0  \n",
      "399999          0          0  \n",
      "\n",
      "[400000 rows x 617 columns]\n"
     ]
    }
   ],
   "source": [
    "# convertimos la columna 'State' en variables dummy\n",
    "dummies = pd.get_dummies(dataTraining['State'], prefix='State')\n",
    "dataTraining = pd.concat([dataTraining, dummies], axis=1)\n",
    "dataTraining = dataTraining.drop('State', axis=1)\n",
    "# Muestra el resultado\n",
    "print(dataTraining)"
   ]
  },
  {
   "cell_type": "markdown",
   "metadata": {},
   "source": [
    "## Transformación información en Test"
   ]
  },
  {
   "cell_type": "code",
   "execution_count": null,
   "metadata": {},
   "outputs": [],
   "source": [
    "# Visualización datos de test\n",
    "dataTesting.head()"
   ]
  },
  {
   "cell_type": "markdown",
   "metadata": {},
   "source": [
    "#### Análisis variable Model:\n",
    "Realizamos el mismo procedimiento que con la variable en Train y todos las observaciones que no tomen los valores de los modelos más significativos (Silverado, Grand, Sierra, Accord, F-1504WD, Civic, Wrangler, 3, Santa, Jetta, FusionSE, EquinoxFWD, CamrySE y Super) las renombramos como 'Otro'."
   ]
  },
  {
   "cell_type": "code",
   "execution_count": null,
   "metadata": {},
   "outputs": [],
   "source": [
    "# Calculamos el porcentaje de observaciones para cada valor único en la columna 'Model'\n",
    "porcentajes = dataTesting['Model'].value_counts(normalize=True) * 100\n",
    "\n",
    "# Renombra,os los valores que no representen más del 1% de las observaciones como 'Otro'\n",
    "valores_permitidos = porcentajes[porcentajes > 1].index\n",
    "dataTesting['Model'] = dataTesting['Model'].where(dataTesting['Model'].isin(valores_permitidos), 'Otro')"
   ]
  },
  {
   "cell_type": "markdown",
   "metadata": {},
   "source": [
    "#### Análisis variable Make:\n",
    "Realizamos el mismo procedimiento que con la variable en Train y todos las observaciones que no tomen los valores de los modelos más significativos (>2% de las observaciones totales) las renombramos como 'Otro'."
   ]
  },
  {
   "cell_type": "code",
   "execution_count": null,
   "metadata": {},
   "outputs": [],
   "source": [
    "# Calculamos el porcentaje de observaciones para cada valor único en la columna 'Model'\n",
    "porcentajes = dataTesting['Make'].value_counts(normalize=True) * 100\n",
    "\n",
    "# Renombra,os los valores que no representen más del 2% de las observaciones como 'Otro'\n",
    "valores_permitidos = porcentajes[porcentajes > 2].index\n",
    "dataTesting['Make'] = dataTesting['Make'].where(dataTesting['Make'].isin(valores_permitidos), 'Otro')"
   ]
  },
  {
   "cell_type": "code",
   "execution_count": 6,
   "metadata": {},
   "outputs": [],
   "source": [
    "dataTesting['State'] = pd.factorize(dataTesting.State)[0]\n",
    "dataTesting['Make'] = pd.factorize(dataTesting.Make)[0]\n",
    "dataTesting['Model'] = pd.factorize(dataTesting.Model)[0]\n",
    "dataTesting['Year'] = pd.factorize(dataTesting.Year)[0]"
   ]
  },
  {
   "cell_type": "markdown",
   "metadata": {},
   "source": [
    "### Transformación variables en dummies:"
   ]
  },
  {
   "cell_type": "code",
   "execution_count": 9,
   "metadata": {
    "scrolled": true
   },
   "outputs": [
    {
     "name": "stdout",
     "output_type": "stream",
     "text": [
      "       Year  Mileage State         Model  Make_Acura  Make_Audi  Make_BMW  \\\n",
      "ID                                                                          \n",
      "0      2014    31909    MD     MuranoAWD           0          0         0   \n",
      "1      2017     5362    FL      Wrangler           0          0         0   \n",
      "2      2014    50300    OH   FlexLimited           0          0         0   \n",
      "3      2004   132160    WA             5           0          0         1   \n",
      "4      2015    25226    MA         Grand           0          0         0   \n",
      "...     ...      ...   ...           ...         ...        ...       ...   \n",
      "99995  2015    82719    TX        Savana           0          0         0   \n",
      "99996  2015    19711    UT             5           0          0         1   \n",
      "99997  2016    48049    CA     MuranoAWD           0          0         0   \n",
      "99998  2017    15306    CO  PatriotSport           0          0         0   \n",
      "99999  2013    40393    TX             1           0          0         1   \n",
      "\n",
      "       Make_Bentley  Make_Buick  Make_Cadillac  ...  Make_Pontiac  \\\n",
      "ID                                              ...                 \n",
      "0                 0           0              0  ...             0   \n",
      "1                 0           0              0  ...             0   \n",
      "2                 0           0              0  ...             0   \n",
      "3                 0           0              0  ...             0   \n",
      "4                 0           0              0  ...             0   \n",
      "...             ...         ...            ...  ...           ...   \n",
      "99995             0           0              0  ...             0   \n",
      "99996             0           0              0  ...             0   \n",
      "99997             0           0              0  ...             0   \n",
      "99998             0           0              0  ...             0   \n",
      "99999             0           0              0  ...             0   \n",
      "\n",
      "       Make_Porsche  Make_Ram  Make_Scion  Make_Subaru  Make_Suzuki  \\\n",
      "ID                                                                    \n",
      "0                 0         0           0            0            0   \n",
      "1                 0         0           0            0            0   \n",
      "2                 0         0           0            0            0   \n",
      "3                 0         0           0            0            0   \n",
      "4                 0         0           0            0            0   \n",
      "...             ...       ...         ...          ...          ...   \n",
      "99995             0         0           0            0            0   \n",
      "99996             0         0           0            0            0   \n",
      "99997             0         0           0            0            0   \n",
      "99998             0         0           0            0            0   \n",
      "99999             0         0           0            0            0   \n",
      "\n",
      "       Make_Tesla  Make_Toyota  Make_Volkswagen  Make_Volvo  \n",
      "ID                                                           \n",
      "0               0            0                0           0  \n",
      "1               0            0                0           0  \n",
      "2               0            0                0           0  \n",
      "3               0            0                0           0  \n",
      "4               0            0                0           0  \n",
      "...           ...          ...              ...         ...  \n",
      "99995           0            0                0           0  \n",
      "99996           0            0                0           0  \n",
      "99997           0            0                0           0  \n",
      "99998           0            0                0           0  \n",
      "99999           0            0                0           0  \n",
      "\n",
      "[100000 rows x 41 columns]\n"
     ]
    }
   ],
   "source": [
    "# convertimos la columna 'Make' en variables dummy\n",
    "dummies = pd.get_dummies(dataTesting['Make'], prefix='Make')\n",
    "dataTesting = pd.concat([dataTesting, dummies], axis=1)\n",
    "dataTesting = dataTesting.drop('Make', axis=1)\n",
    "# Muestra el resultado\n",
    "print(dataTesting)"
   ]
  },
  {
   "cell_type": "code",
   "execution_count": 10,
   "metadata": {},
   "outputs": [
    {
     "name": "stdout",
     "output_type": "stream",
     "text": [
      "       Year  Mileage State  Make_Acura  Make_Audi  Make_BMW  Make_Bentley  \\\n",
      "ID                                                                          \n",
      "0      2014    31909    MD           0          0         0             0   \n",
      "1      2017     5362    FL           0          0         0             0   \n",
      "2      2014    50300    OH           0          0         0             0   \n",
      "3      2004   132160    WA           0          0         1             0   \n",
      "4      2015    25226    MA           0          0         0             0   \n",
      "...     ...      ...   ...         ...        ...       ...           ...   \n",
      "99995  2015    82719    TX           0          0         0             0   \n",
      "99996  2015    19711    UT           0          0         1             0   \n",
      "99997  2016    48049    CA           0          0         0             0   \n",
      "99998  2017    15306    CO           0          0         0             0   \n",
      "99999  2013    40393    TX           0          0         1             0   \n",
      "\n",
      "       Make_Buick  Make_Cadillac  Make_Chevrolet  ...  Model_Yaris4dr  \\\n",
      "ID                                                ...                   \n",
      "0               0              0               0  ...               0   \n",
      "1               0              0               0  ...               0   \n",
      "2               0              0               0  ...               0   \n",
      "3               0              0               0  ...               0   \n",
      "4               0              0               0  ...               0   \n",
      "...           ...            ...             ...  ...             ...   \n",
      "99995           0              0               0  ...               0   \n",
      "99996           0              0               0  ...               0   \n",
      "99997           0              0               0  ...               0   \n",
      "99998           0              0               0  ...               0   \n",
      "99999           0              0               0  ...               0   \n",
      "\n",
      "       Model_YarisBase  Model_YarisLE  Model_Yukon  Model_Yukon2WD  \\\n",
      "ID                                                                   \n",
      "0                    0              0            0               0   \n",
      "1                    0              0            0               0   \n",
      "2                    0              0            0               0   \n",
      "3                    0              0            0               0   \n",
      "4                    0              0            0               0   \n",
      "...                ...            ...          ...             ...   \n",
      "99995                0              0            0               0   \n",
      "99996                0              0            0               0   \n",
      "99997                0              0            0               0   \n",
      "99998                0              0            0               0   \n",
      "99999                0              0            0               0   \n",
      "\n",
      "       Model_Yukon4WD  Model_Yukon4dr  Model_tC2dr  Model_xB5dr  Model_xD5dr  \n",
      "ID                                                                            \n",
      "0                   0               0            0            0            0  \n",
      "1                   0               0            0            0            0  \n",
      "2                   0               0            0            0            0  \n",
      "3                   0               0            0            0            0  \n",
      "4                   0               0            0            0            0  \n",
      "...               ...             ...          ...          ...          ...  \n",
      "99995               0               0            0            0            0  \n",
      "99996               0               0            0            0            0  \n",
      "99997               0               0            0            0            0  \n",
      "99998               0               0            0            0            0  \n",
      "99999               0               0            0            0            0  \n",
      "\n",
      "[100000 rows x 565 columns]\n"
     ]
    }
   ],
   "source": [
    "# convertimos la columna 'Model' en variables dummy\n",
    "dummies = pd.get_dummies(dataTesting['Model'], prefix='Model')\n",
    "dataTesting = pd.concat([dataTesting, dummies], axis=1)\n",
    "dataTesting = dataTesting.drop('Model', axis=1)\n",
    "# Muestra el resultado\n",
    "print(dataTesting)"
   ]
  },
  {
   "cell_type": "code",
   "execution_count": 11,
   "metadata": {},
   "outputs": [
    {
     "name": "stdout",
     "output_type": "stream",
     "text": [
      "       Year  Mileage State  Make_Acura  Make_Audi  Make_BMW  Make_Bentley  \\\n",
      "ID                                                                          \n",
      "0         0    31909    MD           0          0         0             0   \n",
      "1         1     5362    FL           0          0         0             0   \n",
      "2         0    50300    OH           0          0         0             0   \n",
      "3         2   132160    WA           0          0         1             0   \n",
      "4         3    25226    MA           0          0         0             0   \n",
      "...     ...      ...   ...         ...        ...       ...           ...   \n",
      "99995     3    82719    TX           0          0         0             0   \n",
      "99996     3    19711    UT           0          0         1             0   \n",
      "99997     4    48049    CA           0          0         0             0   \n",
      "99998     1    15306    CO           0          0         0             0   \n",
      "99999     5    40393    TX           0          0         1             0   \n",
      "\n",
      "       Make_Buick  Make_Cadillac  Make_Chevrolet  ...  Model_Yaris4dr  \\\n",
      "ID                                                ...                   \n",
      "0               0              0               0  ...               0   \n",
      "1               0              0               0  ...               0   \n",
      "2               0              0               0  ...               0   \n",
      "3               0              0               0  ...               0   \n",
      "4               0              0               0  ...               0   \n",
      "...           ...            ...             ...  ...             ...   \n",
      "99995           0              0               0  ...               0   \n",
      "99996           0              0               0  ...               0   \n",
      "99997           0              0               0  ...               0   \n",
      "99998           0              0               0  ...               0   \n",
      "99999           0              0               0  ...               0   \n",
      "\n",
      "       Model_YarisBase  Model_YarisLE  Model_Yukon  Model_Yukon2WD  \\\n",
      "ID                                                                   \n",
      "0                    0              0            0               0   \n",
      "1                    0              0            0               0   \n",
      "2                    0              0            0               0   \n",
      "3                    0              0            0               0   \n",
      "4                    0              0            0               0   \n",
      "...                ...            ...          ...             ...   \n",
      "99995                0              0            0               0   \n",
      "99996                0              0            0               0   \n",
      "99997                0              0            0               0   \n",
      "99998                0              0            0               0   \n",
      "99999                0              0            0               0   \n",
      "\n",
      "       Model_Yukon4WD  Model_Yukon4dr  Model_tC2dr  Model_xB5dr  Model_xD5dr  \n",
      "ID                                                                            \n",
      "0                   0               0            0            0            0  \n",
      "1                   0               0            0            0            0  \n",
      "2                   0               0            0            0            0  \n",
      "3                   0               0            0            0            0  \n",
      "4                   0               0            0            0            0  \n",
      "...               ...             ...          ...          ...          ...  \n",
      "99995               0               0            0            0            0  \n",
      "99996               0               0            0            0            0  \n",
      "99997               0               0            0            0            0  \n",
      "99998               0               0            0            0            0  \n",
      "99999               0               0            0            0            0  \n",
      "\n",
      "[100000 rows x 565 columns]\n"
     ]
    }
   ],
   "source": [
    "# convertimos la columna 'Year' en variables dummy\n",
    "dataTesting['Year'] = pd.factorize(dataTesting.Year)[0]\n",
    "# Muestra el resultado\n",
    "print(dataTesting)"
   ]
  },
  {
   "cell_type": "code",
   "execution_count": 12,
   "metadata": {},
   "outputs": [
    {
     "name": "stdout",
     "output_type": "stream",
     "text": [
      "       Year  Mileage  Make_Acura  Make_Audi  Make_BMW  Make_Bentley  \\\n",
      "ID                                                                    \n",
      "0         0    31909           0          0         0             0   \n",
      "1         1     5362           0          0         0             0   \n",
      "2         0    50300           0          0         0             0   \n",
      "3         2   132160           0          0         1             0   \n",
      "4         3    25226           0          0         0             0   \n",
      "...     ...      ...         ...        ...       ...           ...   \n",
      "99995     3    82719           0          0         0             0   \n",
      "99996     3    19711           0          0         1             0   \n",
      "99997     4    48049           0          0         0             0   \n",
      "99998     1    15306           0          0         0             0   \n",
      "99999     5    40393           0          0         1             0   \n",
      "\n",
      "       Make_Buick  Make_Cadillac  Make_Chevrolet  Make_Chrysler  ...  \\\n",
      "ID                                                               ...   \n",
      "0               0              0               0              0  ...   \n",
      "1               0              0               0              0  ...   \n",
      "2               0              0               0              0  ...   \n",
      "3               0              0               0              0  ...   \n",
      "4               0              0               0              0  ...   \n",
      "...           ...            ...             ...            ...  ...   \n",
      "99995           0              0               0              0  ...   \n",
      "99996           0              0               0              0  ...   \n",
      "99997           0              0               0              0  ...   \n",
      "99998           0              0               0              0  ...   \n",
      "99999           0              0               0              0  ...   \n",
      "\n",
      "       State_ SD  State_ TN  State_ TX  State_ UT  State_ VA  State_ VT  \\\n",
      "ID                                                                        \n",
      "0              0          0          0          0          0          0   \n",
      "1              0          0          0          0          0          0   \n",
      "2              0          0          0          0          0          0   \n",
      "3              0          0          0          0          0          0   \n",
      "4              0          0          0          0          0          0   \n",
      "...          ...        ...        ...        ...        ...        ...   \n",
      "99995          0          0          1          0          0          0   \n",
      "99996          0          0          0          1          0          0   \n",
      "99997          0          0          0          0          0          0   \n",
      "99998          0          0          0          0          0          0   \n",
      "99999          0          0          1          0          0          0   \n",
      "\n",
      "       State_ WA  State_ WI  State_ WV  State_ WY  \n",
      "ID                                                 \n",
      "0              0          0          0          0  \n",
      "1              0          0          0          0  \n",
      "2              0          0          0          0  \n",
      "3              1          0          0          0  \n",
      "4              0          0          0          0  \n",
      "...          ...        ...        ...        ...  \n",
      "99995          0          0          0          0  \n",
      "99996          0          0          0          0  \n",
      "99997          0          0          0          0  \n",
      "99998          0          0          0          0  \n",
      "99999          0          0          0          0  \n",
      "\n",
      "[100000 rows x 615 columns]\n"
     ]
    }
   ],
   "source": [
    "# convertimos la columna 'State' en variables dummy\n",
    "dummies = pd.get_dummies(dataTesting['State'], prefix='State')\n",
    "dataTesting = pd.concat([dataTesting, dummies], axis=1)\n",
    "dataTesting = dataTesting.drop('State', axis=1)\n",
    "# Muestra el resultado\n",
    "print(dataTesting)"
   ]
  },
  {
   "cell_type": "markdown",
   "metadata": {},
   "source": [
    "#### Definimos X_train, y_train y x_test"
   ]
  },
  {
   "cell_type": "code",
   "execution_count": null,
   "metadata": {},
   "outputs": [],
   "source": [
    "#Particion de x-y datos training y test\n",
    "#X_train = dataTraining.drop([\"Price\"], axis = 1)  \n",
    "#y_train = dataTraining.filter([\"Price\"], axis = 1)\n",
    "#X_test = dataTesting"
   ]
  },
  {
   "cell_type": "code",
   "execution_count": 7,
   "metadata": {},
   "outputs": [],
   "source": [
    "#Particion de x-y datos training\n",
    "XTotal = dataTraining.drop([\"Price\"], axis = 1)  \n",
    "yTotal = dataTraining.filter([\"Price\"], axis = 1)\n",
    "\n",
    "# particion de training para calculo de MSE\n",
    "from sklearn.model_selection import train_test_split\n",
    "X_train, X_test, y_train, y_test = train_test_split(XTotal, yTotal, test_size=0.20, random_state=0)"
   ]
  },
  {
   "cell_type": "markdown",
   "metadata": {},
   "source": [
    "### Bagging"
   ]
  },
  {
   "cell_type": "code",
   "execution_count": null,
   "metadata": {},
   "outputs": [],
   "source": []
  },
  {
   "cell_type": "code",
   "execution_count": null,
   "metadata": {},
   "outputs": [],
   "source": []
  },
  {
   "cell_type": "code",
   "execution_count": null,
   "metadata": {},
   "outputs": [],
   "source": []
  },
  {
   "cell_type": "code",
   "execution_count": null,
   "metadata": {},
   "outputs": [],
   "source": []
  },
  {
   "cell_type": "markdown",
   "metadata": {},
   "source": [
    "### Random Forest"
   ]
  },
  {
   "cell_type": "code",
   "execution_count": null,
   "metadata": {},
   "outputs": [],
   "source": []
  },
  {
   "cell_type": "code",
   "execution_count": null,
   "metadata": {},
   "outputs": [],
   "source": []
  },
  {
   "cell_type": "code",
   "execution_count": null,
   "metadata": {},
   "outputs": [],
   "source": []
  },
  {
   "cell_type": "code",
   "execution_count": null,
   "metadata": {},
   "outputs": [],
   "source": []
  },
  {
   "cell_type": "markdown",
   "metadata": {},
   "source": [
    "### Adaboost"
   ]
  },
  {
   "cell_type": "code",
   "execution_count": null,
   "metadata": {},
   "outputs": [],
   "source": []
  },
  {
   "cell_type": "code",
   "execution_count": null,
   "metadata": {},
   "outputs": [],
   "source": []
  },
  {
   "cell_type": "code",
   "execution_count": null,
   "metadata": {},
   "outputs": [],
   "source": []
  },
  {
   "cell_type": "code",
   "execution_count": null,
   "metadata": {},
   "outputs": [],
   "source": []
  },
  {
   "cell_type": "markdown",
   "metadata": {},
   "source": [
    "### Gradient Boosting"
   ]
  },
  {
   "cell_type": "code",
   "execution_count": null,
   "metadata": {},
   "outputs": [],
   "source": []
  },
  {
   "cell_type": "code",
   "execution_count": null,
   "metadata": {},
   "outputs": [],
   "source": []
  },
  {
   "cell_type": "code",
   "execution_count": null,
   "metadata": {},
   "outputs": [],
   "source": []
  },
  {
   "cell_type": "code",
   "execution_count": null,
   "metadata": {},
   "outputs": [],
   "source": []
  },
  {
   "cell_type": "markdown",
   "metadata": {},
   "source": [
    "### XGBoost"
   ]
  },
  {
   "cell_type": "code",
   "execution_count": 8,
   "metadata": {},
   "outputs": [
    {
     "data": {
      "text/plain": [
       "XGBRegressor(base_score=None, booster=None, callbacks=None,\n",
       "             colsample_bylevel=None, colsample_bynode=None,\n",
       "             colsample_bytree=None, early_stopping_rounds=None,\n",
       "             enable_categorical=False, eval_metric=None, feature_types=None,\n",
       "             gamma=None, gpu_id=None, grow_policy=None, importance_type=None,\n",
       "             interaction_constraints=None, learning_rate=None, max_bin=None,\n",
       "             max_cat_threshold=None, max_cat_to_onehot=None,\n",
       "             max_delta_step=None, max_depth=None, max_leaves=None,\n",
       "             min_child_weight=None, missing=nan, monotone_constraints=None,\n",
       "             n_estimators=100, n_jobs=None, num_parallel_tree=None,\n",
       "             predictor=None, random_state=None, ...)"
      ]
     },
     "execution_count": 8,
     "metadata": {},
     "output_type": "execute_result"
    }
   ],
   "source": [
    "from xgboost import XGBRegressor\n",
    "from sklearn.model_selection import cross_val_score\n",
    "import numpy as np\n",
    "clf = XGBRegressor()\n",
    "clf"
   ]
  },
  {
   "cell_type": "code",
   "execution_count": 9,
   "metadata": {},
   "outputs": [],
   "source": [
    "from sklearn import metrics\n",
    "clf.fit(X_train, y_train)\n",
    "y_pred = clf.predict(X_test)"
   ]
  },
  {
   "cell_type": "code",
   "execution_count": 10,
   "metadata": {},
   "outputs": [],
   "source": [
    "# Calcula el MSE usando validación cruzada\n",
    "#scores = cross_val_score(clf, X_train, y_train, scoring='neg_mean_squared_error', cv=5)\n",
    "#mse = np.mean(-scores)\n",
    "\n",
    "#print(f\"MSE estimado: {mse:.2f}\")"
   ]
  },
  {
   "cell_type": "code",
   "execution_count": 10,
   "metadata": {},
   "outputs": [
    {
     "name": "stdout",
     "output_type": "stream",
     "text": [
      "MSE: 15424188.753508365\n"
     ]
    }
   ],
   "source": [
    "from sklearn.metrics import mean_squared_error, r2_score, mean_absolute_error\n",
    "from math import sqrt\n",
    "mse = mean_squared_error(y_test, y_pred)\n",
    "print(f'MSE: {mse}')"
   ]
  },
  {
   "cell_type": "code",
   "execution_count": 11,
   "metadata": {},
   "outputs": [
    {
     "name": "stdout",
     "output_type": "stream",
     "text": [
      "RMSE: 3927.364097395143\n"
     ]
    }
   ],
   "source": [
    "rmse = sqrt(mse)\n",
    "print(f'RMSE: {rmse}')"
   ]
  },
  {
   "cell_type": "code",
   "execution_count": null,
   "metadata": {},
   "outputs": [],
   "source": [
    "mae = mean_absolute_error(y_test, y_pred)\n",
    "print(f\"MAE: {mae}\")"
   ]
  },
  {
   "cell_type": "code",
   "execution_count": null,
   "metadata": {},
   "outputs": [],
   "source": [
    "r2 = r2_score(y_test, y_pred)\n",
    "print(f'R^2: {r2}')"
   ]
  },
  {
   "cell_type": "markdown",
   "metadata": {},
   "source": [
    "#### Calibramos parámetros de XGBoost"
   ]
  },
  {
   "cell_type": "code",
   "execution_count": null,
   "metadata": {},
   "outputs": [],
   "source": [
    "from xgboost import XGBRegressor\n",
    "from sklearn.model_selection import GridSearchCV\n",
    "\n",
    "# Definimos los valores a probar para cada parámetro\n",
    "param_grid = {\n",
    "    'learning_rate': [0.01, 0.1, 1],\n",
    "    'gamma': [0, 1, 5],\n",
    "    'colsample_bytree': [0.3, 0.7, 1]\n",
    "}"
   ]
  },
  {
   "cell_type": "code",
   "execution_count": null,
   "metadata": {},
   "outputs": [],
   "source": [
    "# Creamos un objeto XGBRegressor\n",
    "modelo1 = XGBRegressor()\n",
    "\n",
    "# Creamos un objeto GridSearchCV\n",
    "grid_search = GridSearchCV(modelo1, param_grid, cv=5)"
   ]
  },
  {
   "cell_type": "code",
   "execution_count": null,
   "metadata": {},
   "outputs": [],
   "source": [
    "# Realizamos la búsqueda en cuadrícula para encontrar los mejores parámetros utilizando validación cruzada\n",
    "grid_search.fit(XTotal, yTotal)"
   ]
  },
  {
   "cell_type": "code",
   "execution_count": null,
   "metadata": {},
   "outputs": [],
   "source": [
    "# Se muestran los mejores parámetros encontrados\n",
    "print(grid_search.best_params_)"
   ]
  },
  {
   "cell_type": "code",
   "execution_count": null,
   "metadata": {},
   "outputs": [],
   "source": [
    "clf = XGBRegressor(learning_rate=0.1,gamma=0,colsample_bytree=0.7)\n",
    "clf"
   ]
  },
  {
   "cell_type": "code",
   "execution_count": null,
   "metadata": {},
   "outputs": [],
   "source": [
    "# Entrenamiento (fit) y desempeño del modelo XGBRegressor\n",
    "clf.fit(X_train, y_train)\n",
    "y_pred = clf.predict(X_test)"
   ]
  },
  {
   "cell_type": "code",
   "execution_count": null,
   "metadata": {},
   "outputs": [],
   "source": [
    "#Cálculo de MSE\n",
    "from sklearn.metrics import mean_squared_error, r2_score\n",
    "from math import sqrt\n",
    "mse = mean_squared_error(y_test, y_pred)\n",
    "print(f'MSE: {mse}')"
   ]
  },
  {
   "cell_type": "code",
   "execution_count": null,
   "metadata": {},
   "outputs": [],
   "source": [
    "rmse = sqrt(mse)\n",
    "print(f'RMSE: {rmse}')"
   ]
  },
  {
   "cell_type": "code",
   "execution_count": null,
   "metadata": {},
   "outputs": [],
   "source": [
    "mae = mean_absolute_error(y_test, y_pred)\n",
    "print(f\"MAE: {mae}\")"
   ]
  },
  {
   "cell_type": "code",
   "execution_count": null,
   "metadata": {},
   "outputs": [],
   "source": [
    "r2 = r2_score(y_test, y_pred)\n",
    "print(f'R^2: {r2}')"
   ]
  },
  {
   "cell_type": "code",
   "execution_count": null,
   "metadata": {},
   "outputs": [],
   "source": []
  },
  {
   "cell_type": "code",
   "execution_count": null,
   "metadata": {},
   "outputs": [],
   "source": []
  },
  {
   "cell_type": "code",
   "execution_count": null,
   "metadata": {},
   "outputs": [],
   "source": [
    "# Predicción del conjunto de test - acá se genera un número aleatorio como ejemplo\n",
    "np.random.seed(42)\n",
    "y_pred = pd.DataFrame(np.random.rand(dataTesting.shape[0]) * 75000 + 5000, index=dataTesting.index, columns=['Price'])"
   ]
  },
  {
   "cell_type": "code",
   "execution_count": null,
   "metadata": {},
   "outputs": [],
   "source": [
    "# Guardar predicciones en formato exigido en la competencia de kaggle\n",
    "y_pred.to_csv('test_submission.csv', index_label='ID')\n",
    "y_pred.head()"
   ]
  }
 ],
 "metadata": {
  "kernelspec": {
   "display_name": "Python 3 (ipykernel)",
   "language": "python",
   "name": "python3"
  },
  "language_info": {
   "codemirror_mode": {
    "name": "ipython",
    "version": 3
   },
   "file_extension": ".py",
   "mimetype": "text/x-python",
   "name": "python",
   "nbconvert_exporter": "python",
   "pygments_lexer": "ipython3",
   "version": "3.9.12"
  }
 },
 "nbformat": 4,
 "nbformat_minor": 4
}
