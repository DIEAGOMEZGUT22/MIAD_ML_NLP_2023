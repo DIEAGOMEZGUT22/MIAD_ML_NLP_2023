{
 "cells": [
  {
   "cell_type": "markdown",
   "metadata": {},
   "source": [
    "![image info](https://raw.githubusercontent.com/davidzarruk/MIAD_ML_NLP_2023/main/images/banner_1.png)"
   ]
  },
  {
   "cell_type": "markdown",
   "metadata": {},
   "source": [
    "# Proyecto 1 - Predicción de precios de vehículos usados\n",
    "\n",
    "En este proyecto podrán poner en práctica sus conocimientos sobre modelos predictivos basados en árboles y ensambles, y sobre la disponibilización de modelos. Para su desasrrollo tengan en cuenta las instrucciones dadas en la \"Guía del proyecto 1: Predicción de precios de vehículos usados\".\n",
    "\n",
    "**Entrega**: La entrega del proyecto deberán realizarla durante la semana 4. Sin embargo, es importante que avancen en la semana 3 en el modelado del problema y en parte del informe, tal y como se les indicó en la guía.\n",
    "\n",
    "Para hacer la entrega, deberán adjuntar el informe autocontenido en PDF a la actividad de entrega del proyecto que encontrarán en la semana 4, y subir el archivo de predicciones a la [competencia de Kaggle](https://www.kaggle.com/t/b8be43cf89c540bfaf3831f2c8506614)."
   ]
  },
  {
   "cell_type": "markdown",
   "metadata": {},
   "source": [
    "## Datos para la predicción de precios de vehículos usados\n",
    "\n",
    "En este proyecto se usará el conjunto de datos de Car Listings de Kaggle, donde cada observación representa el precio de un automóvil teniendo en cuenta distintas variables como: año, marca, modelo, entre otras. El objetivo es predecir el precio del automóvil. Para más detalles puede visitar el siguiente enlace: [datos](https://www.kaggle.com/jpayne/852k-used-car-listings)."
   ]
  },
  {
   "cell_type": "markdown",
   "metadata": {},
   "source": [
    "## Ejemplo predicción conjunto de test para envío a Kaggle\n",
    "\n",
    "En esta sección encontrarán el formato en el que deben guardar los resultados de la predicción para que puedan subirlos a la competencia en Kaggle."
   ]
  },
  {
   "cell_type": "code",
   "execution_count": null,
   "metadata": {},
   "outputs": [],
   "source": [
    "import warnings\n",
    "warnings.filterwarnings('ignore')"
   ]
  },
  {
   "cell_type": "code",
   "execution_count": null,
   "metadata": {},
   "outputs": [],
   "source": [
    "# Importación librerías\n",
    "import pandas as pd\n",
    "import numpy as np\n",
    "import matplotlib.pyplot as plt\n",
    "from sklearn.metrics import mean_squared_error, r2_score, mean_absolute_error\n",
    "from math import sqrt\n",
    "from sklearn.model_selection import RandomizedSearchCV"
   ]
  },
  {
   "cell_type": "code",
   "execution_count": null,
   "metadata": {},
   "outputs": [],
   "source": [
    "# Carga de datos de archivo .csv\n",
    "dataTraining = pd.read_csv('https://raw.githubusercontent.com/davidzarruk/MIAD_ML_NLP_2023/main/datasets/dataTrain_carListings.zip')\n",
    "dataTesting = pd.read_csv('https://raw.githubusercontent.com/davidzarruk/MIAD_ML_NLP_2023/main/datasets/dataTest_carListings.zip', index_col=0)"
   ]
  },
  {
   "cell_type": "markdown",
   "metadata": {},
   "source": [
    "## Transformación información en Train"
   ]
  },
  {
   "cell_type": "code",
   "execution_count": null,
   "metadata": {},
   "outputs": [],
   "source": [
    "# Visualización datos de entrenamiento\n",
    "dataTraining.head()"
   ]
  },
  {
   "cell_type": "markdown",
   "metadata": {},
   "source": [
    "#### Factorizacion variables categóricas:\n"
   ]
  },
  {
   "cell_type": "code",
   "execution_count": null,
   "metadata": {
    "scrolled": true
   },
   "outputs": [],
   "source": [
    "#Factorizacion variables categoricas\n",
    "dataTraining['State'] = pd.factorize(dataTraining.State)[0]\n",
    "dataTraining['Make'] = pd.factorize(dataTraining.Make)[0]\n",
    "dataTraining['Model'] = pd.factorize(dataTraining.Model)[0]\n",
    "dataTraining['Year'] = pd.factorize(dataTraining.Year)[0]"
   ]
  },
  {
   "cell_type": "code",
   "execution_count": null,
   "metadata": {},
   "outputs": [],
   "source": [
    "# Visualización datos de test\n",
    "dataTesting.head()"
   ]
  },
  {
   "cell_type": "code",
   "execution_count": null,
   "metadata": {},
   "outputs": [],
   "source": [
    "dataTesting['State'] = pd.factorize(dataTesting.State)[0]\n",
    "dataTesting['Make'] = pd.factorize(dataTesting.Make)[0]\n",
    "dataTesting['Model'] = pd.factorize(dataTesting.Model)[0]\n",
    "dataTesting['Year'] = pd.factorize(dataTesting.Year)[0]"
   ]
  },
  {
   "cell_type": "markdown",
   "metadata": {},
   "source": [
    "#### Definimos X_train, y_train y x_test"
   ]
  },
  {
   "cell_type": "code",
   "execution_count": null,
   "metadata": {},
   "outputs": [],
   "source": [
    "#Particion de x-y datos training y test\n",
    "#X_train = dataTraining.drop([\"Price\"], axis = 1)  \n",
    "#y_train = dataTraining.filter([\"Price\"], axis = 1)\n",
    "#X_test = dataTesting"
   ]
  },
  {
   "cell_type": "code",
   "execution_count": null,
   "metadata": {},
   "outputs": [],
   "source": [
    "#Particion de x-y datos training\n",
    "XTotal = dataTraining.drop([\"Price\"], axis = 1)  \n",
    "yTotal = dataTraining.filter([\"Price\"], axis = 1)\n",
    "\n",
    "# particion de training para calculo de MSE\n",
    "from sklearn.model_selection import train_test_split\n",
    "X_train, X_test, y_train, y_test = train_test_split(XTotal, yTotal, test_size=0.20, random_state=0)"
   ]
  },
  {
   "cell_type": "markdown",
   "metadata": {},
   "source": [
    "### Bagging"
   ]
  },
  {
   "cell_type": "code",
   "execution_count": null,
   "metadata": {},
   "outputs": [],
   "source": [
    "# Uso de BaggingRegressor de la libreria (sklearn) donde se usa el modelo DecisionTreeRegressor como estimador\n",
    "from sklearn.ensemble import BaggingRegressor\n",
    "from sklearn.tree import DecisionTreeRegressor\n",
    "bagreg = BaggingRegressor(DecisionTreeRegressor(), n_estimators=10, \n",
    "                          bootstrap=True, oob_score=True, random_state=1)"
   ]
  },
  {
   "cell_type": "code",
   "execution_count": null,
   "metadata": {},
   "outputs": [],
   "source": [
    "bagreg.fit(X_train, y_train)\n",
    "y_pred = bagreg.predict(X_test)"
   ]
  },
  {
   "cell_type": "code",
   "execution_count": null,
   "metadata": {},
   "outputs": [],
   "source": [
    "# Calcula el MSE usando validación cruzada\n",
    "scores = cross_val_score(bagreg, X_train, y_train, scoring='neg_mean_squared_error', cv=5)\n",
    "mse = np.mean(-scores)\n",
    "\n",
    "print(f\"MSE estimado: {mse:.2f}\")"
   ]
  },
  {
   "cell_type": "code",
   "execution_count": null,
   "metadata": {},
   "outputs": [],
   "source": [
    "rmse = sqrt(mse)\n",
    "print(f'RMSE: {rmse}')"
   ]
  },
  {
   "cell_type": "code",
   "execution_count": null,
   "metadata": {},
   "outputs": [],
   "source": [
    "scores = cross_val_score(bagreg, X_train, y_train, scoring='neg_mean_absolute_error', cv=5)\n",
    "mae = np.mean(-scores)\n",
    "\n",
    "print(f\"MAE estimado: {mae:.2f}\")"
   ]
  },
  {
   "cell_type": "code",
   "execution_count": null,
   "metadata": {},
   "outputs": [],
   "source": [
    "scores = cross_val_score(bagreg, X_train, y_train, scoring='r2', cv=5)\n",
    "r2 = np.mean(scores)\n",
    "\n",
    "print(f\"R2 estimado: {r2:.2f}\")"
   ]
  },
  {
   "cell_type": "markdown",
   "metadata": {},
   "source": [
    "#### Calibrando parámetros"
   ]
  },
  {
   "cell_type": "code",
   "execution_count": null,
   "metadata": {},
   "outputs": [],
   "source": [
    "# Define the hyperparameter search space\n",
    "param_dist = {\n",
    "    'n_estimators': [1, 100, 500],\n",
    "    'max_samples': [0.5, 1.0],\n",
    "    'max_features': [1, 5],\n",
    "    'bootstrap': [True, False],\n",
    "    'bootstrap_features': [True, False]\n",
    "}\n",
    "\n",
    "# Create a RandomizedSearchCV instance\n",
    "random_search = RandomizedSearchCV(\n",
    "    bagreg,\n",
    "    param_distributions=param_dist,\n",
    "    n_jobs=-1,\n",
    "    random_state=0\n",
    ")\n",
    "\n",
    "# Fit the RandomizedSearchCV instance to the data\n",
    "random_search.fit(X_train, y_train)\n",
    "\n",
    "# Print the best parameters\n",
    "print(random_search.best_params_)"
   ]
  },
  {
   "cell_type": "code",
   "execution_count": null,
   "metadata": {},
   "outputs": [],
   "source": [
    "bagreg_cal = BaggingRegressor(DecisionTreeRegressor(), n_estimators=100, bootstrap_features=True, max_features=5, max_samples=0.5,\n",
    "                          bootstrap=True, oob_score=True, random_state=1)"
   ]
  },
  {
   "cell_type": "code",
   "execution_count": null,
   "metadata": {},
   "outputs": [],
   "source": [
    "bagreg_cal.fit(X_train, y_train)\n",
    "bagregpred_cal = bagreg_cal.predict(X_test)"
   ]
  },
  {
   "cell_type": "code",
   "execution_count": null,
   "metadata": {},
   "outputs": [],
   "source": [
    "# Calcula el MSE usando validación cruzada\n",
    "scores = cross_val_score(bagreg_cal, X_train, y_train, scoring='neg_mean_squared_error', cv=5)\n",
    "mse = np.mean(-scores)\n",
    "\n",
    "print(f\"MSE estimado: {mse:.2f}\")"
   ]
  },
  {
   "cell_type": "code",
   "execution_count": null,
   "metadata": {},
   "outputs": [],
   "source": [
    "rmse = sqrt(mse)\n",
    "print(f'RMSE: {rmse}')"
   ]
  },
  {
   "cell_type": "code",
   "execution_count": null,
   "metadata": {},
   "outputs": [],
   "source": [
    "scores = cross_val_score(bagreg_cal, X_train, y_train, scoring='neg_mean_absolute_error', cv=5)\n",
    "mae = np.mean(-scores)\n",
    "\n",
    "print(f\"MAE estimado: {mae:.2f}\")"
   ]
  },
  {
   "cell_type": "code",
   "execution_count": null,
   "metadata": {},
   "outputs": [],
   "source": [
    "scores = cross_val_score(bagreg_cal, X_train, y_train, scoring='r2', cv=5)\n",
    "r2 = np.mean(scores)\n",
    "\n",
    "print(f\"R2 estimado: {r2:.2f}\")"
   ]
  },
  {
   "cell_type": "markdown",
   "metadata": {},
   "source": [
    "### Random Forest"
   ]
  },
  {
   "cell_type": "code",
   "execution_count": null,
   "metadata": {},
   "outputs": [],
   "source": [
    "from sklearn.ensemble import RandomForestRegressor\n",
    "from sklearn.model_selection import cross_val_score\n",
    "\n",
    "# Definición de modelo Random Forest para un problema de regresión\n",
    "rfreg = RandomForestRegressor()"
   ]
  },
  {
   "cell_type": "code",
   "execution_count": null,
   "metadata": {},
   "outputs": [],
   "source": [
    "#cross_val_score(clf, XTotal,yTotal, cv=10)\n",
    "rfreg.fit(X_train, y_train)\n",
    "predRF = rfreg.predict(X_test)"
   ]
  },
  {
   "cell_type": "code",
   "execution_count": null,
   "metadata": {},
   "outputs": [],
   "source": [
    "# Calcula el MSE usando validación cruzada\n",
    "scores = cross_val_score(rfreg, X_train, y_train, scoring='neg_mean_squared_error', cv=5)\n",
    "mse = np.mean(-scores)\n",
    "\n",
    "print(f\"MSE estimado: {mse:.2f}\")"
   ]
  },
  {
   "cell_type": "code",
   "execution_count": null,
   "metadata": {},
   "outputs": [],
   "source": [
    "rmse = sqrt(mse)\n",
    "print(f'RMSE: {rmse}')"
   ]
  },
  {
   "cell_type": "code",
   "execution_count": null,
   "metadata": {},
   "outputs": [],
   "source": [
    "scores = cross_val_score(rfreg, X_train, y_train, scoring='neg_mean_absolute_error', cv=5)\n",
    "mae = np.mean(-scores)\n",
    "\n",
    "print(f\"MAE estimado: {mae:.2f}\")"
   ]
  },
  {
   "cell_type": "code",
   "execution_count": null,
   "metadata": {},
   "outputs": [],
   "source": [
    "scores = cross_val_score(rfreg, X_train, y_train, scoring='r2', cv=5)\n",
    "r2 = np.mean(scores)\n",
    "\n",
    "print(f\"R2 estimado: {r2:.2f}\")"
   ]
  },
  {
   "cell_type": "markdown",
   "metadata": {},
   "source": [
    "#### Calibración de parámetros"
   ]
  },
  {
   "cell_type": "code",
   "execution_count": null,
   "metadata": {},
   "outputs": [],
   "source": [
    "# Definir el espacio de búsqueda de hiperparámetros\n",
    "param_dist = {\n",
    "    'n_estimators': [10, 50, 100, 500],\n",
    "    'max_depth': [None, 10, 50],\n",
    "    'min_samples_split': [2, 5, 10],\n",
    "    'min_samples_leaf': [1, 2, 4],\n",
    "    'max_features': ['auto', 'sqrt']\n",
    "}\n",
    "\n",
    "# Crear una instancia de RandomizedSearchCV\n",
    "random_search = RandomizedSearchCV(\n",
    "    rfreg,\n",
    "    param_distributions=param_dist,\n",
    "    n_jobs=-1,\n",
    "    random_state=0\n",
    ")\n",
    "\n",
    "# Fit the RandomizedSearchCV instance to the data\n",
    "random_search.fit(X_train, y_train)\n",
    "\n",
    "# Print the best parameters\n",
    "print(random_search.best_params_)"
   ]
  },
  {
   "cell_type": "code",
   "execution_count": null,
   "metadata": {},
   "outputs": [],
   "source": [
    "rfreg_cal = RandomForestRegressor(             )"
   ]
  },
  {
   "cell_type": "code",
   "execution_count": null,
   "metadata": {},
   "outputs": [],
   "source": [
    "#cross_val_score(clf, XTotal,yTotal, cv=10)\n",
    "rfreg_cal.fit(X_train, y_train)\n",
    "predRF_cal = rfreg_cal.predict(X_test)"
   ]
  },
  {
   "cell_type": "code",
   "execution_count": null,
   "metadata": {},
   "outputs": [],
   "source": [
    "# Calcula el MSE usando validación cruzada\n",
    "scores = cross_val_score(rfreg_cal, X_train, y_train, scoring='neg_mean_squared_error', cv=5)\n",
    "mse = np.mean(-scores)\n",
    "\n",
    "print(f\"MSE estimado: {mse:.2f}\")"
   ]
  },
  {
   "cell_type": "code",
   "execution_count": null,
   "metadata": {},
   "outputs": [],
   "source": [
    "rmse = sqrt(mse)\n",
    "print(f'RMSE: {rmse}')"
   ]
  },
  {
   "cell_type": "code",
   "execution_count": null,
   "metadata": {},
   "outputs": [],
   "source": [
    "scores = cross_val_score(rfreg_cal, X_train, y_train, scoring='neg_mean_absolute_error', cv=5)\n",
    "mae = np.mean(-scores)\n",
    "\n",
    "print(f\"MAE estimado: {mae:.2f}\")"
   ]
  },
  {
   "cell_type": "code",
   "execution_count": null,
   "metadata": {},
   "outputs": [],
   "source": [
    "scores = cross_val_score(rfreg_cal, X_train, y_train, scoring='r2', cv=5)\n",
    "r2 = np.mean(scores)\n",
    "\n",
    "print(f\"R2 estimado: {r2:.2f}\")"
   ]
  },
  {
   "cell_type": "markdown",
   "metadata": {},
   "source": [
    "### Adaboost"
   ]
  },
  {
   "cell_type": "code",
   "execution_count": null,
   "metadata": {},
   "outputs": [],
   "source": [
    "# Importación y definición de modelo AdaBoostClassifier\n",
    "from sklearn.ensemble import AdaBoostRegressor\n",
    "ada = AdaBoostRegressor()"
   ]
  },
  {
   "cell_type": "code",
   "execution_count": null,
   "metadata": {},
   "outputs": [],
   "source": [
    "ada.fit(XTrain, yTrain)\n",
    "predada = ada.predict(XTest)"
   ]
  },
  {
   "cell_type": "code",
   "execution_count": null,
   "metadata": {},
   "outputs": [],
   "source": [
    "# Calcula el MSE usando validación cruzada\n",
    "scores = cross_val_score(ada, X_train, y_train, scoring='neg_mean_squared_error', cv=5)\n",
    "mse = np.mean(-scores)\n",
    "\n",
    "print(f\"MSE estimado: {mse:.2f}\")"
   ]
  },
  {
   "cell_type": "code",
   "execution_count": null,
   "metadata": {},
   "outputs": [],
   "source": [
    "rmse = sqrt(mse)\n",
    "print(f'RMSE: {rmse}')"
   ]
  },
  {
   "cell_type": "code",
   "execution_count": null,
   "metadata": {},
   "outputs": [],
   "source": [
    "scores = cross_val_score(ada, X_train, y_train, scoring='neg_mean_absolute_error', cv=5)\n",
    "mae = np.mean(-scores)\n",
    "\n",
    "print(f\"MAE estimado: {mae:.2f}\")"
   ]
  },
  {
   "cell_type": "code",
   "execution_count": null,
   "metadata": {},
   "outputs": [],
   "source": [
    "scores = cross_val_score(ada, X_train, y_train, scoring='r2', cv=5)\n",
    "r2 = np.mean(scores)\n",
    "\n",
    "print(f\"R2 estimado: {r2:.2f}\")"
   ]
  },
  {
   "cell_type": "markdown",
   "metadata": {},
   "source": [
    "#### Calibración de parámetros"
   ]
  },
  {
   "cell_type": "code",
   "execution_count": null,
   "metadata": {},
   "outputs": [],
   "source": [
    "param_dist = {\n",
    "    'n_estimators': range(50, 500),\n",
    "    'learning_rate': uniform(0.01, 1),\n",
    "    'loss': ['linear', 'square', 'exponential']\n",
    "}\n",
    "\n",
    "# Define la búsqueda aleatoria\n",
    "random_search = RandomizedSearchCV(\n",
    "    ada,\n",
    "    param_distributions=param_dist,\n",
    "    n_iter=100,\n",
    "    cv=5,\n",
    "    n_jobs=-1,\n",
    "    random_state=0\n",
    ")\n",
    "\n",
    "# Ajusta la búsqueda aleatoria al conjunto de datos\n",
    "random_search.fit(X_train, y_train)\n",
    "\n",
    "# Muestra los mejores parámetros encontrados\n",
    "print(random_search.best_params_)"
   ]
  },
  {
   "cell_type": "code",
   "execution_count": null,
   "metadata": {},
   "outputs": [],
   "source": [
    "ada_cal = AdaBoostRegressor(             )"
   ]
  },
  {
   "cell_type": "code",
   "execution_count": null,
   "metadata": {},
   "outputs": [],
   "source": [
    "ada_cal.fit(XTrain, yTrain)\n",
    "predada_cal = ada_cal.predict(XTest)"
   ]
  },
  {
   "cell_type": "code",
   "execution_count": null,
   "metadata": {},
   "outputs": [],
   "source": [
    "# Calcula el MSE usando validación cruzada\n",
    "scores = cross_val_score(ada_cal, X_train, y_train, scoring='neg_mean_squared_error', cv=5)\n",
    "mse = np.mean(-scores)\n",
    "\n",
    "print(f\"MSE estimado: {mse:.2f}\")"
   ]
  },
  {
   "cell_type": "code",
   "execution_count": null,
   "metadata": {},
   "outputs": [],
   "source": [
    "rmse = sqrt(mse)\n",
    "print(f'RMSE: {rmse}')"
   ]
  },
  {
   "cell_type": "code",
   "execution_count": null,
   "metadata": {},
   "outputs": [],
   "source": [
    "scores = cross_val_score(ada_cal, X_train, y_train, scoring='neg_mean_absolute_error', cv=5)\n",
    "mae = np.mean(-scores)\n",
    "\n",
    "print(f\"MAE estimado: {mae:.2f}\")"
   ]
  },
  {
   "cell_type": "code",
   "execution_count": null,
   "metadata": {},
   "outputs": [],
   "source": [
    "scores = cross_val_score(ada_cal, X_train, y_train, scoring='r2', cv=5)\n",
    "r2 = np.mean(scores)\n",
    "\n",
    "print(f\"R2 estimado: {r2:.2f}\")"
   ]
  },
  {
   "cell_type": "markdown",
   "metadata": {},
   "source": [
    "### Gradient Boosting"
   ]
  },
  {
   "cell_type": "code",
   "execution_count": null,
   "metadata": {},
   "outputs": [],
   "source": [
    "from sklearn.ensemble import GradientBoostingRegressor\n",
    "grb = GradientBoostingRegressor()"
   ]
  },
  {
   "cell_type": "code",
   "execution_count": null,
   "metadata": {},
   "outputs": [],
   "source": [
    "grb.fit(XTrain, yTrain)\n",
    "predgrb = grb.predict(XTest)"
   ]
  },
  {
   "cell_type": "code",
   "execution_count": null,
   "metadata": {},
   "outputs": [],
   "source": [
    "# Calcula el MSE usando validación cruzada\n",
    "scores = cross_val_score(grb, X_train, y_train, scoring='neg_mean_squared_error', cv=5)\n",
    "mse = np.mean(-scores)\n",
    "\n",
    "print(f\"MSE estimado: {mse:.2f}\")"
   ]
  },
  {
   "cell_type": "code",
   "execution_count": null,
   "metadata": {},
   "outputs": [],
   "source": [
    "rmse = sqrt(mse)\n",
    "print(f'RMSE: {rmse}')"
   ]
  },
  {
   "cell_type": "code",
   "execution_count": null,
   "metadata": {},
   "outputs": [],
   "source": [
    "scores = cross_val_score(grb, X_train, y_train, scoring='neg_mean_absolute_error', cv=5)\n",
    "mae = np.mean(-scores)\n",
    "\n",
    "print(f\"MAE estimado: {mae:.2f}\")"
   ]
  },
  {
   "cell_type": "code",
   "execution_count": null,
   "metadata": {},
   "outputs": [],
   "source": [
    "scores = cross_val_score(grb, X_train, y_train, scoring='r2', cv=5)\n",
    "r2 = np.mean(scores)\n",
    "\n",
    "print(f\"R2 estimado: {r2:.2f}\")"
   ]
  },
  {
   "cell_type": "markdown",
   "metadata": {},
   "source": [
    "#### Calibrando parámetros"
   ]
  },
  {
   "cell_type": "code",
   "execution_count": null,
   "metadata": {},
   "outputs": [],
   "source": [
    "from scipy.stats import uniform"
   ]
  },
  {
   "cell_type": "code",
   "execution_count": null,
   "metadata": {},
   "outputs": [],
   "source": [
    "# Define la distribución de parámetros para la búsqueda aleatoria\n",
    "param_dist = {\n",
    "    'n_estimators': range(50, 500),\n",
    "    'learning_rate': uniform(0.01, 1),\n",
    "    'max_depth': range(1, 10),\n",
    "    'min_samples_split': range(2, 20),\n",
    "    'min_samples_leaf': range(1, 20)\n",
    "}\n",
    "\n",
    "# Define la búsqueda aleatoria\n",
    "random_search = RandomizedSearchCV(\n",
    "    grb,\n",
    "    param_distributions=param_dist,\n",
    "    n_iter=100,\n",
    "    cv=5,\n",
    "    n_jobs=-1,\n",
    "    random_state=0\n",
    ")\n",
    "\n",
    "# Ajusta la búsqueda aleatoria al conjunto de datos\n",
    "random_search.fit(X_train, y_train)\n",
    "\n",
    "# Muestra los mejores parámetros encontrados\n",
    "print(random_search.best_params_)"
   ]
  },
  {
   "cell_type": "code",
   "execution_count": null,
   "metadata": {},
   "outputs": [],
   "source": [
    "grb_cal = GradientBoostingRegressor(                       )"
   ]
  },
  {
   "cell_type": "code",
   "execution_count": null,
   "metadata": {},
   "outputs": [],
   "source": [
    "grb_cal.fit(XTrain, yTrain)\n",
    "predgrb_cal = grb_cal.predict(XTest)"
   ]
  },
  {
   "cell_type": "code",
   "execution_count": null,
   "metadata": {},
   "outputs": [],
   "source": [
    "# Calcula el MSE usando validación cruzada\n",
    "scores = cross_val_score(grb_cal, X_train, y_train, scoring='neg_mean_squared_error', cv=5)\n",
    "mse = np.mean(-scores)\n",
    "\n",
    "print(f\"MSE estimado: {mse:.2f}\")"
   ]
  },
  {
   "cell_type": "code",
   "execution_count": null,
   "metadata": {},
   "outputs": [],
   "source": [
    "rmse = sqrt(mse)\n",
    "print(f'RMSE: {rmse}')"
   ]
  },
  {
   "cell_type": "code",
   "execution_count": null,
   "metadata": {},
   "outputs": [],
   "source": [
    "scores = cross_val_score(grb_cal, X_train, y_train, scoring='neg_mean_absolute_error', cv=5)\n",
    "mae = np.mean(-scores)\n",
    "\n",
    "print(f\"MAE estimado: {mae:.2f}\")"
   ]
  },
  {
   "cell_type": "code",
   "execution_count": null,
   "metadata": {},
   "outputs": [],
   "source": [
    "scores = cross_val_score(grb_cal, X_train, y_train, scoring='r2', cv=5)\n",
    "r2 = np.mean(scores)\n",
    "\n",
    "print(f\"R2 estimado: {r2:.2f}\")"
   ]
  },
  {
   "cell_type": "markdown",
   "metadata": {},
   "source": [
    "### XGBoost"
   ]
  },
  {
   "cell_type": "code",
   "execution_count": null,
   "metadata": {},
   "outputs": [],
   "source": [
    "from xgboost import XGBRegressor\n",
    "from sklearn.model_selection import cross_val_score\n",
    "import numpy as np\n",
    "\n",
    "xgb = XGBRegressor()\n",
    "xgb"
   ]
  },
  {
   "cell_type": "code",
   "execution_count": null,
   "metadata": {},
   "outputs": [],
   "source": [
    "from sklearn import metrics\n",
    "xgb.fit(X_train, y_train)\n",
    "xgbpred = xgb.predict(X_test)"
   ]
  },
  {
   "cell_type": "code",
   "execution_count": null,
   "metadata": {},
   "outputs": [],
   "source": [
    "# Calcula el MSE usando validación cruzada\n",
    "scores = cross_val_score(xgb, X_train, y_train, scoring='neg_mean_squared_error', cv=5)\n",
    "mse = np.mean(-scores)\n",
    "\n",
    "print(f\"MSE estimado: {mse:.2f}\")"
   ]
  },
  {
   "cell_type": "code",
   "execution_count": null,
   "metadata": {},
   "outputs": [],
   "source": [
    "rmse = sqrt(mse)\n",
    "print(f'RMSE: {rmse}')"
   ]
  },
  {
   "cell_type": "code",
   "execution_count": null,
   "metadata": {},
   "outputs": [],
   "source": [
    "scores = cross_val_score(xgb, X_train, y_train, scoring='neg_mean_absolute_error', cv=5)\n",
    "mae = np.mean(-scores)\n",
    "\n",
    "print(f\"MAE estimado: {mae:.2f}\")"
   ]
  },
  {
   "cell_type": "code",
   "execution_count": null,
   "metadata": {},
   "outputs": [],
   "source": [
    "scores = cross_val_score(xgb, X_train, y_train, scoring='r2', cv=5)\n",
    "r2 = np.mean(scores)\n",
    "\n",
    "print(f\"R2 estimado: {r2:.2f}\")"
   ]
  },
  {
   "cell_type": "markdown",
   "metadata": {},
   "source": [
    "#### Calibramos parámetros de XGBoost"
   ]
  },
  {
   "cell_type": "code",
   "execution_count": null,
   "metadata": {},
   "outputs": [],
   "source": [
    "from xgboost import XGBRegressor\n",
    "from sklearn.model_selection import GridSearchCV\n",
    "\n",
    "# Definimos los valores a probar para cada parámetro\n",
    "param_grid = {\n",
    "    'learning_rate': [0.01, 0.1, 1],\n",
    "    'gamma': [0, 1, 5],\n",
    "    'colsample_bytree': [0.3, 0.7, 1]\n",
    "}"
   ]
  },
  {
   "cell_type": "code",
   "execution_count": null,
   "metadata": {},
   "outputs": [],
   "source": [
    "# Creamos un objeto XGBRegressor\n",
    "xgb_cal = XGBRegressor()\n",
    "\n",
    "# Creamos un objeto GridSearchCV\n",
    "grid_search = GridSearchCV(xgb_cal, param_grid, cv=5)"
   ]
  },
  {
   "cell_type": "code",
   "execution_count": null,
   "metadata": {},
   "outputs": [],
   "source": [
    "# Realizamos la búsqueda en cuadrícula para encontrar los mejores parámetros utilizando validación cruzada\n",
    "grid_search.fit(X_train, y_train)"
   ]
  },
  {
   "cell_type": "code",
   "execution_count": null,
   "metadata": {},
   "outputs": [],
   "source": [
    "# Se muestran los mejores parámetros encontrados\n",
    "print(grid_search.best_params_)"
   ]
  },
  {
   "cell_type": "code",
   "execution_count": null,
   "metadata": {},
   "outputs": [],
   "source": [
    "xgb_cal = XGBRegressor(learning_rate=1,gamma=0,colsample_bytree=1)\n",
    "xgb_cal"
   ]
  },
  {
   "cell_type": "code",
   "execution_count": null,
   "metadata": {},
   "outputs": [],
   "source": [
    "# Entrenamiento (fit) y desempeño del modelo XGBRegressor\n",
    "xgb_cal.fit(X_train, y_train)\n",
    "xgbpred_cal = xgb_cal.predict(X_test)"
   ]
  },
  {
   "cell_type": "code",
   "execution_count": null,
   "metadata": {},
   "outputs": [],
   "source": [
    "# Calcula el MSE usando validación cruzada\n",
    "scores = cross_val_score(xgb_cal, X_train, y_train, scoring='neg_mean_squared_error', cv=5)\n",
    "mse = np.mean(-scores)\n",
    "\n",
    "print(f\"MSE estimado: {mse:.2f}\")"
   ]
  },
  {
   "cell_type": "code",
   "execution_count": null,
   "metadata": {},
   "outputs": [],
   "source": [
    "#from sklearn.metrics import mean_squared_error, r2_score, mean_absolute_error\n",
    "#from math import sqrt\n",
    "#mse = mean_squared_error(y_test, y_pred)\n",
    "#print(f'MSE: {mse}')"
   ]
  },
  {
   "cell_type": "code",
   "execution_count": null,
   "metadata": {},
   "outputs": [],
   "source": [
    "rmse = sqrt(mse)\n",
    "print(f'RMSE: {rmse}')"
   ]
  },
  {
   "cell_type": "code",
   "execution_count": null,
   "metadata": {},
   "outputs": [],
   "source": [
    "scores = cross_val_score(xgb_cal, X_train, y_train, scoring='neg_mean_absolute_error', cv=5)\n",
    "mae = np.mean(-scores)\n",
    "\n",
    "print(f\"MAE estimado: {mae:.2f}\")"
   ]
  },
  {
   "cell_type": "code",
   "execution_count": null,
   "metadata": {},
   "outputs": [],
   "source": [
    "scores = cross_val_score(xgb_cal, X_train, y_train, scoring='r2', cv=5)\n",
    "r2 = np.mean(scores)\n",
    "\n",
    "print(f\"R2 estimado: {r2:.2f}\")"
   ]
  },
  {
   "cell_type": "code",
   "execution_count": null,
   "metadata": {},
   "outputs": [],
   "source": [
    "# Predicción del conjunto de test - acá se genera un número aleatorio como ejemplo\n",
    "np.random.seed(42)\n",
    "y_pred = pd.DataFrame(np.random.rand(dataTesting.shape[0]) * 75000 + 5000, index=dataTesting.index, columns=['Price'])"
   ]
  },
  {
   "cell_type": "code",
   "execution_count": null,
   "metadata": {},
   "outputs": [],
   "source": [
    "# Guardar predicciones en formato exigido en la competencia de kaggle\n",
    "y_pred.to_csv('test_submission.csv', index_label='ID')\n",
    "y_pred.head()"
   ]
  }
 ],
 "metadata": {
  "kernelspec": {
   "display_name": "Python 3 (ipykernel)",
   "language": "python",
   "name": "python3"
  },
  "language_info": {
   "codemirror_mode": {
    "name": "ipython",
    "version": 3
   },
   "file_extension": ".py",
   "mimetype": "text/x-python",
   "name": "python",
   "nbconvert_exporter": "python",
   "pygments_lexer": "ipython3",
   "version": "3.9.12"
  }
 },
 "nbformat": 4,
 "nbformat_minor": 4
}
