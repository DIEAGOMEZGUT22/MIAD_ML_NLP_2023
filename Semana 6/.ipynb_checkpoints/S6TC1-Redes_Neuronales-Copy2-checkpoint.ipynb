{
 "cells": [
  {
   "cell_type": "markdown",
   "metadata": {},
   "source": [
    "![image info](https://raw.githubusercontent.com/albahnsen/MIAD_ML_and_NLP/main/images/banner_1.png)"
   ]
  },
  {
   "cell_type": "markdown",
   "metadata": {},
   "source": [
    "# Taller: Redes Neuronales\n",
    "\n",
    "En este taller podrán poner en práctica sus conocimientos sobre la construcción e implementación de redes neuronales de una capa y multicapa. El taller está constituido por 4 puntos, en los cuales deberan seguir las intrucciones de cada numeral para su desarrollo."
   ]
  },
  {
   "cell_type": "markdown",
   "metadata": {},
   "source": [
    "## Datos predicción probabilidad de admisión a la universidad\n",
    "\n",
    "En este taller se usará el conjunto de datos de admisiones a una universidad proveniente de la base de datos de Kaggle. Cada observación contiene la probabilidad de que un estudiante sea admitido por la universidad, dadas distintas variables predictoras como el puntaje del examén TOEFL y GRE, el promedio (GPA), entre otras. El objetivo es predecir la probabilidad de admissión de cada estudiante. Para más detalles pueden visitar el siguiente enlace: [datos](https://www.kaggle.com/mohansacharya/graduate-admissions)."
   ]
  },
  {
   "cell_type": "code",
   "execution_count": 1,
   "metadata": {},
   "outputs": [],
   "source": [
    "import warnings\n",
    "warnings.filterwarnings('ignore')"
   ]
  },
  {
   "cell_type": "code",
   "execution_count": 2,
   "metadata": {},
   "outputs": [],
   "source": [
    "# Importación librerías\n",
    "import numpy as np\n",
    "import keras \n",
    "import pandas as pd\n",
    "import matplotlib.pyplot as plt\n",
    "%matplotlib inline\n",
    "\n",
    "from sklearn.model_selection import train_test_split\n",
    "from keras import initializers\n",
    "from keras import optimizers\n",
    "from keras.models import Sequential\n",
    "from keras.layers import Dense\n",
    "from keras.layers import Dropout"
   ]
  },
  {
   "cell_type": "code",
   "execution_count": 3,
   "metadata": {},
   "outputs": [
    {
     "data": {
      "text/html": [
       "<div>\n",
       "<style scoped>\n",
       "    .dataframe tbody tr th:only-of-type {\n",
       "        vertical-align: middle;\n",
       "    }\n",
       "\n",
       "    .dataframe tbody tr th {\n",
       "        vertical-align: top;\n",
       "    }\n",
       "\n",
       "    .dataframe thead th {\n",
       "        text-align: right;\n",
       "    }\n",
       "</style>\n",
       "<table border=\"1\" class=\"dataframe\">\n",
       "  <thead>\n",
       "    <tr style=\"text-align: right;\">\n",
       "      <th></th>\n",
       "      <th>GRE Score</th>\n",
       "      <th>TOEFL Score</th>\n",
       "      <th>University Rating</th>\n",
       "      <th>SOP</th>\n",
       "      <th>LOR</th>\n",
       "      <th>CGPA</th>\n",
       "      <th>Research</th>\n",
       "      <th>Chance of Admit</th>\n",
       "    </tr>\n",
       "    <tr>\n",
       "      <th>Serial No.</th>\n",
       "      <th></th>\n",
       "      <th></th>\n",
       "      <th></th>\n",
       "      <th></th>\n",
       "      <th></th>\n",
       "      <th></th>\n",
       "      <th></th>\n",
       "      <th></th>\n",
       "    </tr>\n",
       "  </thead>\n",
       "  <tbody>\n",
       "    <tr>\n",
       "      <th>1</th>\n",
       "      <td>337</td>\n",
       "      <td>118</td>\n",
       "      <td>4</td>\n",
       "      <td>4.5</td>\n",
       "      <td>4.5</td>\n",
       "      <td>9.65</td>\n",
       "      <td>1</td>\n",
       "      <td>0.92</td>\n",
       "    </tr>\n",
       "    <tr>\n",
       "      <th>2</th>\n",
       "      <td>324</td>\n",
       "      <td>107</td>\n",
       "      <td>4</td>\n",
       "      <td>4.0</td>\n",
       "      <td>4.5</td>\n",
       "      <td>8.87</td>\n",
       "      <td>1</td>\n",
       "      <td>0.76</td>\n",
       "    </tr>\n",
       "    <tr>\n",
       "      <th>3</th>\n",
       "      <td>316</td>\n",
       "      <td>104</td>\n",
       "      <td>3</td>\n",
       "      <td>3.0</td>\n",
       "      <td>3.5</td>\n",
       "      <td>8.00</td>\n",
       "      <td>1</td>\n",
       "      <td>0.72</td>\n",
       "    </tr>\n",
       "    <tr>\n",
       "      <th>4</th>\n",
       "      <td>322</td>\n",
       "      <td>110</td>\n",
       "      <td>3</td>\n",
       "      <td>3.5</td>\n",
       "      <td>2.5</td>\n",
       "      <td>8.67</td>\n",
       "      <td>1</td>\n",
       "      <td>0.80</td>\n",
       "    </tr>\n",
       "    <tr>\n",
       "      <th>5</th>\n",
       "      <td>314</td>\n",
       "      <td>103</td>\n",
       "      <td>2</td>\n",
       "      <td>2.0</td>\n",
       "      <td>3.0</td>\n",
       "      <td>8.21</td>\n",
       "      <td>0</td>\n",
       "      <td>0.65</td>\n",
       "    </tr>\n",
       "  </tbody>\n",
       "</table>\n",
       "</div>"
      ],
      "text/plain": [
       "            GRE Score  TOEFL Score  University Rating  SOP  LOR   CGPA  \\\n",
       "Serial No.                                                               \n",
       "1                 337          118                  4  4.5   4.5  9.65   \n",
       "2                 324          107                  4  4.0   4.5  8.87   \n",
       "3                 316          104                  3  3.0   3.5  8.00   \n",
       "4                 322          110                  3  3.5   2.5  8.67   \n",
       "5                 314          103                  2  2.0   3.0  8.21   \n",
       "\n",
       "            Research  Chance of Admit   \n",
       "Serial No.                              \n",
       "1                  1              0.92  \n",
       "2                  1              0.76  \n",
       "3                  1              0.72  \n",
       "4                  1              0.80  \n",
       "5                  0              0.65  "
      ]
     },
     "execution_count": 3,
     "metadata": {},
     "output_type": "execute_result"
    }
   ],
   "source": [
    "# Carga de datos de archivo .csv\n",
    "data = pd.read_csv('https://raw.githubusercontent.com/albahnsen/MIAD_ML_and_NLP/main/datasets/universityGraduateAdmissions.csv', index_col=0)\n",
    "data.head()"
   ]
  },
  {
   "cell_type": "code",
   "execution_count": 4,
   "metadata": {},
   "outputs": [
    {
     "data": {
      "image/png": "[encoded data removed]",
      "text/plain": [
       "<Figure size 1080x1080 with 9 Axes>"
      ]
     },
     "metadata": {
      "needs_background": "light"
     },
     "output_type": "display_data"
    }
   ],
   "source": [
    "# Hitogramas de las varaibles del dataset\n",
    "data.hist(bins=25, figsize=(15,15))\n",
    "plt.show()"
   ]
  },
  {
   "cell_type": "code",
   "execution_count": 5,
   "metadata": {},
   "outputs": [
    {
     "data": {
      "text/html": [
       "<div>\n",
       "<style scoped>\n",
       "    .dataframe tbody tr th:only-of-type {\n",
       "        vertical-align: middle;\n",
       "    }\n",
       "\n",
       "    .dataframe tbody tr th {\n",
       "        vertical-align: top;\n",
       "    }\n",
       "\n",
       "    .dataframe thead th {\n",
       "        text-align: right;\n",
       "    }\n",
       "</style>\n",
       "<table border=\"1\" class=\"dataframe\">\n",
       "  <thead>\n",
       "    <tr style=\"text-align: right;\">\n",
       "      <th></th>\n",
       "      <th>GRE Score</th>\n",
       "      <th>TOEFL Score</th>\n",
       "      <th>University Rating</th>\n",
       "      <th>SOP</th>\n",
       "      <th>LOR</th>\n",
       "      <th>CGPA</th>\n",
       "      <th>Research</th>\n",
       "      <th>Chance of Admit</th>\n",
       "    </tr>\n",
       "    <tr>\n",
       "      <th>Serial No.</th>\n",
       "      <th></th>\n",
       "      <th></th>\n",
       "      <th></th>\n",
       "      <th></th>\n",
       "      <th></th>\n",
       "      <th></th>\n",
       "      <th></th>\n",
       "      <th></th>\n",
       "    </tr>\n",
       "  </thead>\n",
       "  <tbody>\n",
       "    <tr>\n",
       "      <th>1</th>\n",
       "      <td>337</td>\n",
       "      <td>118</td>\n",
       "      <td>4</td>\n",
       "      <td>4.5</td>\n",
       "      <td>4.5</td>\n",
       "      <td>9.65</td>\n",
       "      <td>1</td>\n",
       "      <td>0.92</td>\n",
       "    </tr>\n",
       "    <tr>\n",
       "      <th>2</th>\n",
       "      <td>324</td>\n",
       "      <td>107</td>\n",
       "      <td>4</td>\n",
       "      <td>4.0</td>\n",
       "      <td>4.5</td>\n",
       "      <td>8.87</td>\n",
       "      <td>1</td>\n",
       "      <td>0.76</td>\n",
       "    </tr>\n",
       "    <tr>\n",
       "      <th>3</th>\n",
       "      <td>316</td>\n",
       "      <td>104</td>\n",
       "      <td>3</td>\n",
       "      <td>3.0</td>\n",
       "      <td>3.5</td>\n",
       "      <td>8.00</td>\n",
       "      <td>1</td>\n",
       "      <td>0.72</td>\n",
       "    </tr>\n",
       "    <tr>\n",
       "      <th>4</th>\n",
       "      <td>322</td>\n",
       "      <td>110</td>\n",
       "      <td>3</td>\n",
       "      <td>3.5</td>\n",
       "      <td>2.5</td>\n",
       "      <td>8.67</td>\n",
       "      <td>1</td>\n",
       "      <td>0.80</td>\n",
       "    </tr>\n",
       "    <tr>\n",
       "      <th>5</th>\n",
       "      <td>314</td>\n",
       "      <td>103</td>\n",
       "      <td>2</td>\n",
       "      <td>2.0</td>\n",
       "      <td>3.0</td>\n",
       "      <td>8.21</td>\n",
       "      <td>0</td>\n",
       "      <td>0.65</td>\n",
       "    </tr>\n",
       "    <tr>\n",
       "      <th>...</th>\n",
       "      <td>...</td>\n",
       "      <td>...</td>\n",
       "      <td>...</td>\n",
       "      <td>...</td>\n",
       "      <td>...</td>\n",
       "      <td>...</td>\n",
       "      <td>...</td>\n",
       "      <td>...</td>\n",
       "    </tr>\n",
       "    <tr>\n",
       "      <th>496</th>\n",
       "      <td>332</td>\n",
       "      <td>108</td>\n",
       "      <td>5</td>\n",
       "      <td>4.5</td>\n",
       "      <td>4.0</td>\n",
       "      <td>9.02</td>\n",
       "      <td>1</td>\n",
       "      <td>0.87</td>\n",
       "    </tr>\n",
       "    <tr>\n",
       "      <th>497</th>\n",
       "      <td>337</td>\n",
       "      <td>117</td>\n",
       "      <td>5</td>\n",
       "      <td>5.0</td>\n",
       "      <td>5.0</td>\n",
       "      <td>9.87</td>\n",
       "      <td>1</td>\n",
       "      <td>0.96</td>\n",
       "    </tr>\n",
       "    <tr>\n",
       "      <th>498</th>\n",
       "      <td>330</td>\n",
       "      <td>120</td>\n",
       "      <td>5</td>\n",
       "      <td>4.5</td>\n",
       "      <td>5.0</td>\n",
       "      <td>9.56</td>\n",
       "      <td>1</td>\n",
       "      <td>0.93</td>\n",
       "    </tr>\n",
       "    <tr>\n",
       "      <th>499</th>\n",
       "      <td>312</td>\n",
       "      <td>103</td>\n",
       "      <td>4</td>\n",
       "      <td>4.0</td>\n",
       "      <td>5.0</td>\n",
       "      <td>8.43</td>\n",
       "      <td>0</td>\n",
       "      <td>0.73</td>\n",
       "    </tr>\n",
       "    <tr>\n",
       "      <th>500</th>\n",
       "      <td>327</td>\n",
       "      <td>113</td>\n",
       "      <td>4</td>\n",
       "      <td>4.5</td>\n",
       "      <td>4.5</td>\n",
       "      <td>9.04</td>\n",
       "      <td>0</td>\n",
       "      <td>0.84</td>\n",
       "    </tr>\n",
       "  </tbody>\n",
       "</table>\n",
       "<p>500 rows × 8 columns</p>\n",
       "</div>"
      ],
      "text/plain": [
       "            GRE Score  TOEFL Score  University Rating  SOP  LOR   CGPA  \\\n",
       "Serial No.                                                               \n",
       "1                 337          118                  4  4.5   4.5  9.65   \n",
       "2                 324          107                  4  4.0   4.5  8.87   \n",
       "3                 316          104                  3  3.0   3.5  8.00   \n",
       "4                 322          110                  3  3.5   2.5  8.67   \n",
       "5                 314          103                  2  2.0   3.0  8.21   \n",
       "...               ...          ...                ...  ...   ...   ...   \n",
       "496               332          108                  5  4.5   4.0  9.02   \n",
       "497               337          117                  5  5.0   5.0  9.87   \n",
       "498               330          120                  5  4.5   5.0  9.56   \n",
       "499               312          103                  4  4.0   5.0  8.43   \n",
       "500               327          113                  4  4.5   4.5  9.04   \n",
       "\n",
       "            Research  Chance of Admit   \n",
       "Serial No.                              \n",
       "1                  1              0.92  \n",
       "2                  1              0.76  \n",
       "3                  1              0.72  \n",
       "4                  1              0.80  \n",
       "5                  0              0.65  \n",
       "...              ...               ...  \n",
       "496                1              0.87  \n",
       "497                1              0.96  \n",
       "498                1              0.93  \n",
       "499                0              0.73  \n",
       "500                0              0.84  \n",
       "\n",
       "[500 rows x 8 columns]"
      ]
     },
     "execution_count": 5,
     "metadata": {},
     "output_type": "execute_result"
    }
   ],
   "source": [
    "data"
   ]
  },
  {
   "cell_type": "code",
   "execution_count": 6,
   "metadata": {},
   "outputs": [],
   "source": [
    "# Definición de variables predictoras (X)\n",
    "X = data.drop(data.columns[-1], axis=1)\n",
    "# Definición de variable de interés (y)\n",
    "Y = data[data.columns[-1]]"
   ]
  },
  {
   "cell_type": "code",
   "execution_count": 7,
   "metadata": {},
   "outputs": [],
   "source": [
    "Y= [[i]for i in Y]"
   ]
  },
  {
   "cell_type": "code",
   "execution_count": 8,
   "metadata": {},
   "outputs": [],
   "source": [
    "# Separación de variables predictoras (X) y variable de interés (y) en set de entrenamiento y test usandola función train_test_split\n",
    "X_train, X_test, Y_train, Y_test = train_test_split(X,Y,test_size=0.3, random_state=22)"
   ]
  },
  {
   "cell_type": "code",
   "execution_count": 9,
   "metadata": {},
   "outputs": [],
   "source": [
    "# Normalización de variables predictoras (X) con la función StandardScaler\n",
    "from sklearn.preprocessing import StandardScaler\n",
    "\n",
    "# Definición de la función StandardScaler\n",
    "scaler = StandardScaler()\n",
    "\n",
    "# Transformación de los set de entrenamiento y test\n",
    "X_train = pd.DataFrame(data=scaler.fit_transform(X_train), columns=X_train.columns, index=X_train.index)\n",
    "X_test = pd.DataFrame(data=scaler.transform(X_test), columns=X_test.columns, index=X_test.index)\n",
    "\n",
    "X_train = np.array(X_train)\n",
    "Y_train = np.array(Y_train)\n",
    "\n",
    "X_test = np.array(X_test)\n",
    "Y_test = np.array(Y_test)"
   ]
  },
  {
   "cell_type": "code",
   "execution_count": 10,
   "metadata": {},
   "outputs": [
    {
     "name": "stdout",
     "output_type": "stream",
     "text": [
      "1  output variables\n"
     ]
    }
   ],
   "source": [
    "# Definición de dimensiones de salida, varaibles de interés\n",
    "output_var = Y_train.shape[1]\n",
    "print(output_var, ' output variables')"
   ]
  },
  {
   "cell_type": "code",
   "execution_count": 11,
   "metadata": {},
   "outputs": [
    {
     "name": "stdout",
     "output_type": "stream",
     "text": [
      "7 input variables\n"
     ]
    }
   ],
   "source": [
    "# Definición de dimensiones de entrada, varaibles predictoras\n",
    "dims = X_train.shape[1]\n",
    "print(dims, 'input variables')"
   ]
  },
  {
   "cell_type": "markdown",
   "metadata": {},
   "source": [
    "## Punto 1 - Red Neuronal de una capa\n",
    "\n",
    "En la celda 1 creen una **red neuronal de una capa** con la librería Keras, que prediga la probabilidad de admisión de los estudiantes, usando los sets de entrenamiento y test definidos anteriormente. Pueden usar la función de perdida, el optimizador y el número de épocas que consideren pertinentes para el modelo, justificando su selección. Finalmente, grafiquen la pérdida del modelo vs el número de épocas en el set de entrenamiento y validación, y presenten el desempeño del modelo con las métricas error absoluto medio (MAE) y error cuadrático medio (MSE)."
   ]
  },
  {
   "cell_type": "code",
   "execution_count": 12,
   "metadata": {},
   "outputs": [],
   "source": [
    "# Celda 1\n",
    "# Importación librerías\n",
    "from keras.models import Sequential\n",
    "from keras.layers import Dense, Activation\n",
    "from livelossplot import PlotLossesKeras\n",
    "from keras import backend as K\n",
    "import keras.optimizers as opts"
   ]
  },
  {
   "cell_type": "code",
   "execution_count": 13,
   "metadata": {},
   "outputs": [
    {
     "name": "stdout",
     "output_type": "stream",
     "text": [
      "Model: \"sequential\"\n",
      "_________________________________________________________________\n",
      " Layer (type)                Output Shape              Param #   \n",
      "=================================================================\n",
      " dense (Dense)               (None, 1)                 8         \n",
      "                                                                 \n",
      "=================================================================\n",
      "Total params: 8\n",
      "Trainable params: 8\n",
      "Non-trainable params: 0\n",
      "_________________________________________________________________\n",
      "None\n"
     ]
    }
   ],
   "source": [
    "K.clear_session()\n",
    "\n",
    "# Definición red neuronal con la función Sequential()\n",
    "model = Sequential()\n",
    "# Definición de la capa densa con un tamaño de salida igual a output_var y un input_shape de dims\n",
    "model.add(Dense(output_var, input_shape=(dims,)))\n",
    "\n",
    "# Impresión de la arquitectura de la red neuronal\n",
    "print(model.summary())"
   ]
  },
  {
   "cell_type": "code",
   "execution_count": 14,
   "metadata": {},
   "outputs": [],
   "source": [
    "# Definición de función de perdida. Se usa mean_squared_error dado que es un ejercicio de regresión\n",
    "model.compile(optimizer='sgd', loss='mean_squared_error')"
   ]
  },
  {
   "cell_type": "code",
   "execution_count": 15,
   "metadata": {},
   "outputs": [
    {
     "data": {
      "image/png": "[encoded data removed]",
      "text/plain": [
       "<Figure size 864x576 with 2 Axes>"
      ]
     },
     "metadata": {
      "needs_background": "light"
     },
     "output_type": "display_data"
    },
    {
     "name": "stdout",
     "output_type": "stream",
     "text": [
      "Loss\n",
      "\ttraining         \t (min:    0.004, max:    1.366, cur:    0.004)\n",
      "\tvalidation       \t (min:    0.003, max:    0.634, cur:    0.003)\n",
      "\b\b\b\b\b\b\b\b\b\b\b\b\b\b\b\b\b\b\b\b\b\b\b\b\b\b\b\b\b\b\b\b\b\b\b\b\b\b\b\b\b\b\b\b\b\b\b\b\b\b\b\b\b\b\b\b\b\b\b\b\b\b\b\r",
      "11/11 [==============================] - 0s 22ms/step - loss: 0.0042 - val_loss: 0.0033\n"
     ]
    },
    {
     "data": {
      "text/plain": [
       "<keras.callbacks.History at 0x2352f8c29d0>"
      ]
     },
     "execution_count": 15,
     "metadata": {},
     "output_type": "execute_result"
    }
   ],
   "source": [
    "# Entrenamiento de la red neuronal con 50 épocas\n",
    "model.fit(X_train, Y_train, \n",
    "          verbose=1, \n",
    "          epochs=60, \n",
    "          validation_data=(X_test, Y_test),\n",
    "          callbacks=[PlotLossesKeras()])"
   ]
  },
  {
   "cell_type": "code",
   "execution_count": 20,
   "metadata": {},
   "outputs": [
    {
     "name": "stdout",
     "output_type": "stream",
     "text": [
      "5/5 [==============================] - 0s 1ms/step\n",
      "MSE: 0.003253586082056202\n",
      "MAE: 0.0434835807243983\n"
     ]
    }
   ],
   "source": [
    "from sklearn.metrics import mean_squared_error, mean_absolute_error\n",
    "\n",
    "# Realizar predicciones en el conjunto de prueba\n",
    "y_pred_1 = model.predict(X_test)\n",
    "\n",
    "# Calcular MSE y MAE\n",
    "mse = mean_squared_error(Y_test, y_pred_1)\n",
    "mae = mean_absolute_error(Y_test, y_pred_1)\n",
    "\n",
    "# Imprimir resultados\n",
    "print('MSE:', mse)\n",
    "print('MAE:', mae)"
   ]
  },
  {
   "cell_type": "markdown",
   "metadata": {},
   "source": [
    "### Análisis:\n",
    "Por medio de la gráfica que ilustra la pérdida del modelo vs el número de épocas en el set de entrenamiento y validación, escogemos como parámetro de la función model.fit() 60 épocas para validar gráficamente a partir de qué epoca no hay una mejora significativa en la función de pérdida. Como se observa en la gráfica de arriba, se evidencia que a partir de la época 20 se estabiliza la pérdida tanto en entrenamiento como validación. Por lo que en los puntos posteriores cuando usemos early stopping, usaremos una detención a partir de la época 20. Así mismo, este modelo arroja una MSE de 0.00325 y un MAE de 0.0434."
   ]
  },
  {
   "cell_type": "markdown",
   "metadata": {},
   "source": [
    "## Punto 2 - Red Neuronal multicapa\n",
    "\n",
    "En la celda 2 creen una **red neuronal con dos capas** con la librería Keras, que prediga la probabilidad de admisión de los estudiantes usando los sets de entrenamiento y test definidos anteriormente. Pueden usar la función de perdida, el optimizador, el número de épocas y el número de neuronas que consideren pertinentes para el modelo, justificando su selección. Finalmente, grafiquen la pérdida del modelo vs el número de épocas en el set de entrenamiento y validación, y presenten el desempeño del modelo con las métricas error absoluto medio (MAE) y error cuadrático medio (MSE)."
   ]
  },
  {
   "cell_type": "code",
   "execution_count": 28,
   "metadata": {},
   "outputs": [
    {
     "name": "stdout",
     "output_type": "stream",
     "text": [
      "Mejor: -0.048148 usando {'neurons': 50}\n"
     ]
    }
   ],
   "source": [
    "from keras.wrappers.scikit_learn import KerasRegressor\n",
    "from sklearn.model_selection import GridSearchCV\n",
    "X_numpy = X.values\n",
    "Y_numpy = np.array(Y)\n",
    "\n",
    "def create_model(neurons=1):\n",
    "    # Crear modelo\n",
    "    model = Sequential()\n",
    "    model.add(Dense(neurons, input_dim=dims, activation='relu'))\n",
    "    model.add(Dense(1))\n",
    "    model.compile(loss='mean_squared_error', optimizer='adam')\n",
    "    return model\n",
    "\n",
    "# Crear un wrapper para el modelo de Keras\n",
    "model = KerasRegressor(build_fn=create_model, epochs=60, batch_size=10, verbose=0)\n",
    "\n",
    "# Definir los valores a probar para el hiperparámetro neurons\n",
    "neurons = [1, 10, 50, 100, 150, 300]\n",
    "param_grid = dict(neurons=neurons)\n",
    "\n",
    "# Crear y ajustar el objeto GridSearchCV\n",
    "grid = GridSearchCV(estimator=model, param_grid=param_grid, n_jobs=-1, cv=3)\n",
    "grid_result = grid.fit(X_numpy, Y_numpy)\n",
    "\n",
    "# Imprimir resultados\n",
    "print(\"Mejor: %f usando %s\" % (grid_result.best_score_, grid_result.best_params_))"
   ]
  },
  {
   "cell_type": "code",
   "execution_count": 29,
   "metadata": {},
   "outputs": [
    {
     "name": "stdout",
     "output_type": "stream",
     "text": [
      "Model: \"sequential\"\n",
      "_________________________________________________________________\n",
      " Layer (type)                Output Shape              Param #   \n",
      "=================================================================\n",
      " dense (Dense)               (None, 50)                400       \n",
      "                                                                 \n",
      " dense_1 (Dense)             (None, 50)                2550      \n",
      "                                                                 \n",
      " dense_2 (Dense)             (None, 1)                 51        \n",
      "                                                                 \n",
      " activation (Activation)     (None, 1)                 0         \n",
      "                                                                 \n",
      "=================================================================\n",
      "Total params: 3,001\n",
      "Trainable params: 3,001\n",
      "Non-trainable params: 0\n",
      "_________________________________________________________________\n",
      "None\n"
     ]
    }
   ],
   "source": [
    "# Celda 2\n",
    "K.clear_session()\n",
    "\n",
    "# Definición red neuronal con la función Sequential()\n",
    "model = Sequential()\n",
    "\n",
    "# Definición de la capa densa con un tamaño de salida igual a output_var y un input_shape de dims\n",
    "model.add(Dense(50, input_shape=(dims,),activation='relu'))\n",
    "model.add(Dense(50,activation='relu'))\n",
    "model.add(Dense(output_var))\n",
    "model.add(Activation('relu'))\n",
    "\n",
    "# Impresión de la arquitectura de la red neuronal\n",
    "print(model.summary())"
   ]
  },
  {
   "cell_type": "code",
   "execution_count": 30,
   "metadata": {},
   "outputs": [],
   "source": [
    "# Definición de función de perdida. Se usa mean_squared_error dado que es un ejercicio de regresión\n",
    "model.compile(optimizer='sgd', loss='mean_squared_error')"
   ]
  },
  {
   "cell_type": "code",
   "execution_count": 31,
   "metadata": {},
   "outputs": [],
   "source": [
    "# Separación de datos de entrenamiento para considerar un set de validación durante entrenamiento\n",
    "X_train, X_val, Y_train, Y_val = train_test_split(X_train, Y_train, test_size=0.15, random_state=42)"
   ]
  },
  {
   "cell_type": "code",
   "execution_count": 32,
   "metadata": {},
   "outputs": [
    {
     "data": {
      "image/png": "[encoded data removed]",
      "text/plain": [
       "<Figure size 864x576 with 2 Axes>"
      ]
     },
     "metadata": {
      "needs_background": "light"
     },
     "output_type": "display_data"
    },
    {
     "name": "stdout",
     "output_type": "stream",
     "text": [
      "Loss\n",
      "\ttraining         \t (min:    0.013, max:    0.431, cur:    0.013)\n",
      "\tvalidation       \t (min:    0.013, max:    0.253, cur:    0.013)\n",
      "\b\b\b\b\b\b\b\b\b\b\b\b\b\b\b\b\b\b\b\b\b\b\b\b\b\b\b\b\b\b\b\b\b\b\b\b\b\b\b\b\b\b\b\b\b\b\b\b\b\b\b\b\b\b\b\b\b\b\b\b\b\b\b\r",
      "10/10 [==============================] - 0s 22ms/step - loss: 0.0131 - val_loss: 0.0127\n"
     ]
    },
    {
     "data": {
      "text/plain": [
       "<keras.callbacks.History at 0x2352f4bd160>"
      ]
     },
     "execution_count": 32,
     "metadata": {},
     "output_type": "execute_result"
    }
   ],
   "source": [
    "# Entrenamiento de la red neuronal con 20 épocas\n",
    "model.fit(X_train, Y_train,\n",
    "          validation_data = (X_val, Y_val),\n",
    "          epochs=20, \n",
    "          callbacks=[PlotLossesKeras()])"
   ]
  },
  {
   "cell_type": "code",
   "execution_count": 35,
   "metadata": {},
   "outputs": [
    {
     "name": "stdout",
     "output_type": "stream",
     "text": [
      "5/5 [==============================] - 0s 2ms/step\n",
      "MSE: 0.012437204876850051\n",
      "MAE: 0.08569642256100972\n"
     ]
    }
   ],
   "source": [
    "# Realizar predicciones en el conjunto de prueba\n",
    "y_pred_2 = model.predict(X_test)\n",
    "\n",
    "# Calcular MSE y MAE\n",
    "mse_2 = mean_squared_error(Y_test, y_pred_2)\n",
    "mae_2 = mean_absolute_error(Y_test, y_pred_2)\n",
    "\n",
    "# Imprimir resultados\n",
    "print('MSE:', mse_2)\n",
    "print('MAE:', mae_2)"
   ]
  },
  {
   "cell_type": "markdown",
   "metadata": {},
   "source": [
    "### Análisis:\n",
    "Por medio de la función GridSearchCV encontramos el número óptimo de neuronas a utilizar en nuestro modelo multicapa en un rango entre 1 a 300 neuronas. El método sugiere que el modelo con mejor score con base en este algoritmo es el que usa 50 neuronas. De esta manera, nos disponemos a ejecutar el modelo multicapa usando 50 neuronas y 20 épocas, tal como lo sugería el análisis del punto anterior. Con base en esta selección, encontramos que el modelo estabiliza su MSE a partir de la época 20, y arroja un MSE y un MAE de 0.012 y 0.085 respectivamente."
   ]
  },
  {
   "cell_type": "markdown",
   "metadata": {},
   "source": [
    "## Punto 3  - Red Neuronal multicapa\n",
    "\n",
    "En la celda 3 creen **una red neuronal con más de una capa con la librería Keras, usando early stopping y dropout,** que prediga la probabilidad de admisión de los estudiantes con los sets de entrenamiento y test definidos anteriormente. Pueden usar la función de perdida, el optimizador, el número de épocas y el número de neuronas que consideren pertinentes para el modelo, justificando su selección. Finalmente, grafiquen la pérdida del modelo vs el número de épocas en el set de entrenamiento y validación, y presenten el desempeño del modelo con las métricas error absoluto medio (MAE) y error cuadrático medio (MSE)."
   ]
  },
  {
   "cell_type": "code",
   "execution_count": 40,
   "metadata": {},
   "outputs": [],
   "source": [
    "# Celda 3\n",
    "# Importación librerías\n",
    "from sklearn.model_selection import train_test_split\n",
    "from keras.callbacks import EarlyStopping, ModelCheckpoint\n",
    "from tensorflow.keras.layers import Dropout"
   ]
  },
  {
   "cell_type": "code",
   "execution_count": 37,
   "metadata": {},
   "outputs": [
    {
     "name": "stdout",
     "output_type": "stream",
     "text": [
      "Mejor: -0.020444 usando {'dropout_rate': 0.1}\n"
     ]
    }
   ],
   "source": [
    "from keras.wrappers.scikit_learn import KerasRegressor\n",
    "from sklearn.model_selection import GridSearchCV\n",
    "\n",
    "def create_model(dropout_rate=0.0):\n",
    "    # Crear modelo\n",
    "    model = Sequential()\n",
    "    model.add(Dense(50, input_dim=dims, activation='relu'))\n",
    "    model.add(Dropout(dropout_rate))\n",
    "    model.add(Dense(50, activation='relu'))\n",
    "    model.add(Dropout(dropout_rate))\n",
    "    model.add(Dense(1))\n",
    "    model.compile(loss='mean_squared_error', optimizer='sgd')\n",
    "    return model\n",
    "\n",
    "# Crear un wrapper para el modelo de Keras\n",
    "model = KerasRegressor(build_fn=create_model, epochs=100, batch_size=10, verbose=0)\n",
    "\n",
    "# Definir los valores a probar para el hiperparámetro dropout_rate\n",
    "dropout_rate = [0.0, 0.1, 0.2, 0.3, 0.4, 0.5]\n",
    "param_grid = dict(dropout_rate=dropout_rate)\n",
    "\n",
    "# Crear y ajustar el objeto GridSearchCV\n",
    "grid = GridSearchCV(estimator=model, param_grid=param_grid, n_jobs=-1, cv=3)\n",
    "grid_result = grid.fit(X_numpy, Y_numpy)\n",
    "\n",
    "# Imprimir resultados\n",
    "print(\"Mejor: %f usando %s\" % (grid_result.best_score_, grid_result.best_params_))\n"
   ]
  },
  {
   "cell_type": "code",
   "execution_count": 38,
   "metadata": {},
   "outputs": [
    {
     "name": "stdout",
     "output_type": "stream",
     "text": [
      "Model: \"sequential\"\n",
      "_________________________________________________________________\n",
      " Layer (type)                Output Shape              Param #   \n",
      "=================================================================\n",
      " dense (Dense)               (None, 50)                400       \n",
      "                                                                 \n",
      " dropout (Dropout)           (None, 50)                0         \n",
      "                                                                 \n",
      " dense_1 (Dense)             (None, 50)                2550      \n",
      "                                                                 \n",
      " dropout_1 (Dropout)         (None, 50)                0         \n",
      "                                                                 \n",
      " dense_2 (Dense)             (None, 1)                 51        \n",
      "                                                                 \n",
      " activation (Activation)     (None, 1)                 0         \n",
      "                                                                 \n",
      "=================================================================\n",
      "Total params: 3,001\n",
      "Trainable params: 3,001\n",
      "Non-trainable params: 0\n",
      "_________________________________________________________________\n",
      "None\n"
     ]
    }
   ],
   "source": [
    "K.clear_session()\n",
    "\n",
    "# Definición red neuronal con la función Sequential()\n",
    "model = Sequential()\n",
    "# Definición de la capa densa con un tamaño de salida igual a output_var y un input_shape de dims\n",
    "\n",
    "# Definición de la capa densa con un tamaño de salida igual a output_var y un input_shape de dims\n",
    "model.add(Dense(50, input_shape=(dims,),activation='relu'))\n",
    "model.add(Dropout(0.1))\n",
    "model.add(Dense(50,activation='relu'))\n",
    "model.add(Dropout(0.1))\n",
    "model.add(Dense(output_var))\n",
    "model.add(Activation('relu'))\n",
    "\n",
    "# Definición de función de perdida. Se usa mean_squared_error dado que es un ejercicio de regresión\n",
    "model.compile(optimizer='sgd', loss='mean_squared_error')\n",
    "\n",
    "# Impresión de la arquitectura de la red neuronal\n",
    "print(model.summary())"
   ]
  },
  {
   "cell_type": "code",
   "execution_count": 41,
   "metadata": {},
   "outputs": [],
   "source": [
    "# Definición de la función EarlyStopping para considerar durante el entrenamiento\n",
    "early_stop = EarlyStopping(monitor='val_loss', patience=2, verbose=1) "
   ]
  },
  {
   "cell_type": "code",
   "execution_count": 42,
   "metadata": {},
   "outputs": [],
   "source": [
    "# Definición de la función ModelCheckpoint para guardar el modelo con mejor desempeño\n",
    "fBestModel = 'best_model.h5'\n",
    "best_model = ModelCheckpoint(fBestModel, verbose=0, save_best_only=True)"
   ]
  },
  {
   "cell_type": "code",
   "execution_count": 43,
   "metadata": {},
   "outputs": [
    {
     "name": "stdout",
     "output_type": "stream",
     "text": [
      "Epoch 1/20\n",
      "3/3 [==============================] - 1s 125ms/step - loss: 0.5061 - val_loss: 0.4957\n",
      "Epoch 2/20\n",
      "3/3 [==============================] - 0s 20ms/step - loss: 0.4847 - val_loss: 0.4678\n",
      "Epoch 3/20\n",
      "3/3 [==============================] - 0s 20ms/step - loss: 0.4691 - val_loss: 0.4264\n",
      "Epoch 4/20\n",
      "3/3 [==============================] - 0s 25ms/step - loss: 0.4181 - val_loss: 0.3607\n",
      "Epoch 5/20\n",
      "3/3 [==============================] - 0s 26ms/step - loss: 0.3585 - val_loss: 0.2751\n",
      "Epoch 6/20\n",
      "3/3 [==============================] - 0s 22ms/step - loss: 0.2716 - val_loss: 0.1920\n",
      "Epoch 7/20\n",
      "3/3 [==============================] - 0s 22ms/step - loss: 0.2018 - val_loss: 0.1394\n",
      "Epoch 8/20\n",
      "3/3 [==============================] - 0s 22ms/step - loss: 0.1520 - val_loss: 0.1073\n",
      "Epoch 9/20\n",
      "3/3 [==============================] - 0s 22ms/step - loss: 0.1192 - val_loss: 0.0861\n",
      "Epoch 10/20\n",
      "3/3 [==============================] - 0s 21ms/step - loss: 0.0971 - val_loss: 0.0722\n",
      "Epoch 11/20\n",
      "3/3 [==============================] - 0s 20ms/step - loss: 0.0837 - val_loss: 0.0626\n",
      "Epoch 12/20\n",
      "3/3 [==============================] - 0s 25ms/step - loss: 0.0772 - val_loss: 0.0556\n",
      "Epoch 13/20\n",
      "3/3 [==============================] - 0s 28ms/step - loss: 0.0718 - val_loss: 0.0505\n",
      "Epoch 14/20\n",
      "3/3 [==============================] - 0s 24ms/step - loss: 0.0705 - val_loss: 0.0464\n",
      "Epoch 15/20\n",
      "3/3 [==============================] - 0s 24ms/step - loss: 0.0603 - val_loss: 0.0433\n",
      "Epoch 16/20\n",
      "3/3 [==============================] - 0s 23ms/step - loss: 0.0577 - val_loss: 0.0414\n",
      "Epoch 17/20\n",
      "3/3 [==============================] - 0s 24ms/step - loss: 0.0528 - val_loss: 0.0391\n",
      "Epoch 18/20\n",
      "3/3 [==============================] - 0s 21ms/step - loss: 0.0530 - val_loss: 0.0373\n",
      "Epoch 19/20\n",
      "3/3 [==============================] - 0s 23ms/step - loss: 0.0522 - val_loss: 0.0358\n",
      "Epoch 20/20\n",
      "3/3 [==============================] - 0s 22ms/step - loss: 0.0476 - val_loss: 0.0349\n"
     ]
    },
    {
     "data": {
      "text/plain": [
       "<keras.callbacks.History at 0x235348f1130>"
      ]
     },
     "execution_count": 43,
     "metadata": {},
     "output_type": "execute_result"
    }
   ],
   "source": [
    "# Entrenamiento de la red neuronal con 50 épocas y early stopping\n",
    "model.fit(X_train, Y_train, \n",
    "          verbose=True, \n",
    "          epochs=20, \n",
    "          batch_size=128,\n",
    "          validation_data=(X_test,Y_test),\n",
    "          callbacks=[best_model, early_stop])"
   ]
  },
  {
   "cell_type": "code",
   "execution_count": 44,
   "metadata": {},
   "outputs": [
    {
     "name": "stdout",
     "output_type": "stream",
     "text": [
      "5/5 [==============================] - 0s 1ms/step\n",
      "MSE: 0.03494705476719424\n",
      "MAE: 0.14951192442576092\n"
     ]
    }
   ],
   "source": [
    "# Realizar predicciones en el conjunto de prueba\n",
    "y_pred_3 = model.predict(X_test)\n",
    "\n",
    "# Calcular MSE y MAE\n",
    "mse_3 = mean_squared_error(Y_test, y_pred_3)\n",
    "mae_3 = mean_absolute_error(Y_test, y_pred_3)\n",
    "\n",
    "# Imprimir resultados\n",
    "print('MSE:', mse_3)\n",
    "print('MAE:', mae_3)"
   ]
  },
  {
   "cell_type": "markdown",
   "metadata": {},
   "source": [
    "### Análisis:\n",
    "En el algoritmo anterior usamos la función GridSearchCV para identificar la tasa de dropout óptima para el modelo de red neuronal multicapa. El método nos sugiere emplear una tasa de dropout del 0.1. Una vez, ejecutamos el modelo multicapa usando los parámetros óptimos encontrados en los pasos anteriores (Épocas: 20, Neuronas: 50, Tasa Dropout: 0.1), el modelo nos arroja un MSE y MAE de 0.03 y 0.14 respectivamente. Es pertinente aclarar que en el número de parámetros entrenables en las capas que se observa en la tabla superior, en particular, las filas que corresponden a las capas dropout y dropout_1 muestran que ambas capas tienen 0 parámetros entrenables. Esto es correcto y esperable, ya que las capas Dropout no tienen parámetros entrenables. Su función es simplemente “apagar” aleatoriamente algunas neuronas durante el entrenamiento, lo que no requiere ningún parámetro adicional."
   ]
  },
  {
   "cell_type": "markdown",
   "metadata": {},
   "source": [
    "## Punto 4 - Comparación y análisis de resultados\n",
    "\n",
    "En la celda 4 comparen los resultados obtenidos de las diferentes redes y comenten las ventajas del mejor modelo y las desventajas del modelo con el menor desempeño."
   ]
  },
  {
   "cell_type": "code",
   "execution_count": 48,
   "metadata": {},
   "outputs": [
    {
     "data": {
      "image/png": "[encoded data removed]",
      "text/plain": [
       "<Figure size 432x288 with 1 Axes>"
      ]
     },
     "metadata": {
      "needs_background": "light"
     },
     "output_type": "display_data"
    }
   ],
   "source": [
    "# Celda 4\n",
    "import matplotlib.pyplot as plt\n",
    "fig = plt.figure()\n",
    "ax = fig.add_axes([0,0,1,1])\n",
    "ax.set_title(\"Comparación de modelos\")\n",
    "ejeX = [ 'MSE Modelo unicapa', 'MSE Modelo sin regularización', 'MSE Modelo con regularización']\n",
    "ejeY = [ mse, mse_2, mse_3]\n",
    "ax.bar(ejeX,ejeY)\n",
    "def addlabels(x,y,plotP):\n",
    "    for i in range(len(x)):\n",
    "        plotP.text(i,y[i],y[i])\n",
    "addlabels(ejeX,ejeY,plt)\n",
    "plt.show()"
   ]
  },
  {
   "cell_type": "markdown",
   "metadata": {},
   "source": [
    "Con base en los resultados del MSE de los tres modelos, como lo evidencia la gráfica, podemos observar que el modelo de red neuronal multicapa ofrece un MSE inferior al de los modelos multicapa con o sin técnicas de regularización. Esto se puede explicar por varios motivos, entre los principales se encuentran:\n",
    "\n",
    "1) Hay un sobre ajuste en el conjunto de entrenamiento: Puede que el modelo sin regularización se ajuste mejor a los datos de entrenamiento y tenga un MSE más bajo. Sin embargo, esto no necesariamente significa que el modelo generalice mejor a nuevos datos.\n",
    "2) Regularización excesiva: Si el modelo con técnicas de regularización está demasiado restringido, es posible que no pueda ajustarse adecuadamente a los datos y tenga un desempeño inferior al modelo sin regularización. En este caso, puede ser útil ajustar los hiperparámetros de regularización para encontrar un mejor equilibrio entre ajuste y generalización. Sin embargo, consideramos que este no es el caso del actual taller, ya que utilizamos el método GridSearchCV para encontrar los valores con mejor puntuación de número de neuronas (50) y tasa de dropout (0.1).\n",
    "3) Complejidad del modelo: Si el problema es muy complejo y requiere un modelo con muchos parámetros para ser resuelto adecuadamente, es posible que el modelo sin regularización tenga un desempeño superior al modelo con regularización. En este caso, puede ser útil aumentar la complejidad del modelo con regularización para mejorar su desempeño aunque esta opción iría en detrimento de la eficiencia computacional al momento de correr modelos más complejos."
   ]
  },
  {
   "cell_type": "code",
   "execution_count": null,
   "metadata": {},
   "outputs": [],
   "source": []
  }
 ],
 "metadata": {
  "kernelspec": {
   "display_name": "Python 3 (ipykernel)",
   "language": "python",
   "name": "python3"
  },
  "language_info": {
   "codemirror_mode": {
    "name": "ipython",
    "version": 3
   },
   "file_extension": ".py",
   "mimetype": "text/x-python",
   "name": "python",
   "nbconvert_exporter": "python",
   "pygments_lexer": "ipython3",
   "version": "3.9.12"
  }
 },
 "nbformat": 4,
 "nbformat_minor": 2
}
